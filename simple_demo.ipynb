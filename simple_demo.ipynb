{
 "cells": [
  {
   "cell_type": "code",
   "execution_count": 29,
   "id": "5bc094a2",
   "metadata": {},
   "outputs": [],
   "source": [
    "import numpy as np\n",
    "import matplotlib.pyplot as plt\n",
    "import scipy\n",
    "\n",
    "from functools import partial\n",
    "import pyDOE\n",
    "from sklearn.gaussian_process.kernels import Matern\n",
    "\n",
    "from robustGP.SURmodel import AdaptiveStrategy\n",
    "from robustGP.test_functions import branin_2d\n",
    "import robustGP.tools as tools\n",
    "import robustGP.gptools\n",
    "import robustGP.acquisition.acquisition as ac\n",
    "import robustGP.enrichment.Enrichment as enrich\n",
    "import robustGP.optimisers as opt\n"
   ]
  },
  {
   "cell_type": "code",
   "execution_count": 30,
   "id": "76d1c7bc",
   "metadata": {},
   "outputs": [],
   "source": [
    "\n",
    "plt.style.use(\"seaborn\")\n",
    "plt.rc(\"text.latex\", preamble=r\"\\usepackage{amsmath} \\usepackage{amssymb}\")\n",
    "plt.rcParams.update({\n",
    "    \"text.usetex\": True,\n",
    "    \"font.family\": \"sans-serif\",\n",
    "    \"font.serif\": [\"Computer Modern Roman\"],\n",
    "    'image.cmap': u'viridis',\n",
    "    'figure.figsize': [8, 8],\n",
    "    'savefig.dpi': 200\n",
    "})"
   ]
  },
  {
   "cell_type": "code",
   "execution_count": 31,
   "id": "6ede10da",
   "metadata": {},
   "outputs": [],
   "source": [
    "def initialize_branin(initial_design=None):\n",
    "    \"\"\"\n",
    "    Create new instance of AdaptiveStrategy of the Branin 2d function\n",
    "    with LHS as initial design\n",
    "    \"\"\"\n",
    "    NDIM = 2\n",
    "    if initial_design is None:\n",
    "        initial_design = 5 * NDIM\n",
    "    bounds = np.asarray([(0, 1)] * NDIM)\n",
    "    initial_design = pyDOE.lhs(\n",
    "        n=NDIM, samples=initial_design, criterion=\"maximin\", iterations=50\n",
    "    )\n",
    "    branin = AdaptiveStrategy(bounds, branin_2d)\n",
    "    branin.fit_gp(\n",
    "        initial_design,\n",
    "        branin.evaluate_function(initial_design),\n",
    "        Matern(np.ones(NDIM)),\n",
    "        n_restarts_optimizer=50,\n",
    "    )\n",
    "    branin.set_idxU([1], ndim=2)\n",
    "    return branin\n",
    "\n",
    "\n",
    "bounds = np.asarray([[0, 1], [0, 1]])\n",
    "# For plots\n",
    "x, y = np.linspace(0, 1, 50), np.linspace(0, 1, 50)\n",
    "(XY, (xmg, ymg)) = tools.pairify((x, y))\n",
    "xl, yl = np.linspace(0, 1, 500), np.linspace(0, 1, 500)\n",
    "(XYl, (xmgl, ymgl)) = tools.pairify((xl, yl))"
   ]
  },
  {
   "cell_type": "code",
   "execution_count": 32,
   "id": "b8e6571c",
   "metadata": {},
   "outputs": [],
   "source": [
    "branin = initialize_branin()"
   ]
  },
  {
   "cell_type": "code",
   "execution_count": null,
   "id": "db0abb1c",
   "metadata": {},
   "outputs": [
    {
     "name": "stderr",
     "output_type": "stream",
     "text": [
      " 90%|█████████ | 90/100 [00:56<00:08,  1.19it/s]"
     ]
    }
   ],
   "source": [
    "maximum_variance = enrich.OneStepEnrichment(bounds)\n",
    "maximum_variance.set_optim(opt.optimize_with_restart, **{\"bounds\": bounds, \"nrestart\": 20})\n",
    "\n",
    "def variance(arg, X):\n",
    "    return arg.predict(X, return_std=True)[1] ** 2\n",
    "\n",
    "maximum_variance.set_criterion(variance, maxi=True)\n",
    "branin.set_enrichment(maximum_variance)\n",
    "branin.run(Niter=100)"
   ]
  },
  {
   "cell_type": "code",
   "execution_count": null,
   "id": "716f93c6",
   "metadata": {},
   "outputs": [],
   "source": [
    "m, s = branin.predict(XY, return_std=True)\n",
    "plt.subplot(2, 2, 1)\n",
    "plt.contourf(x, y, m.reshape(50, 50).T)\n",
    "plt.title(r\"$m_Z$\")\n",
    "plt.subplot(2, 2, 2)\n",
    "plt.contourf(x, y, s.reshape(50, 50).T)\n",
    "plt.title(r\"$\\sigma^2_Z$\")\n",
    "plt.subplot(2, 2, 3)\n",
    "plt.contourf(x, y, (m.reshape(50, 50) - branin.function(XY).reshape(50, 50)))\n",
    "plt.title(r\"$J - m_Z$\")"
   ]
  },
  {
   "cell_type": "code",
   "execution_count": 20,
   "id": "9648ea7d",
   "metadata": {},
   "outputs": [],
   "source": [
    "plt.show()"
   ]
  }
 ],
 "metadata": {
  "kernelspec": {
   "display_name": "Python 3",
   "language": "python",
   "name": "python3"
  },
  "language_info": {
   "codemirror_mode": {
    "name": "ipython",
    "version": 3
   },
   "file_extension": ".py",
   "mimetype": "text/x-python",
   "name": "python",
   "nbconvert_exporter": "python",
   "pygments_lexer": "ipython3",
   "version": "3.7.0"
  }
 },
 "nbformat": 4,
 "nbformat_minor": 5
}
