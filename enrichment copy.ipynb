{
 "cells": [
  {
   "cell_type": "code",
   "execution_count": 24,
   "metadata": {},
   "outputs": [],
   "source": [
    "# Imports: General tools\n",
    "%matplotlib inline\n",
    "import numpy as np\n",
    "import matplotlib.pyplot as plt\n",
    "import scipy\n",
    "import pickle\n",
    "\n",
    "from matplotlib import cm\n",
    "from functools import partial\n",
    "import pyDOE\n",
    "from sklearn.gaussian_process.kernels import Matern\n",
    "import cma\n",
    "\n",
    "# Imports: robustGP\n",
    "from robustGP.SURmodel import AdaptiveStrategy\n",
    "from robustGP.test_functions import branin_2d\n",
    "import robustGP.tools as tools\n",
    "import robustGP.gptools\n",
    "import robustGP.acquisition.acquisition as ac\n",
    "import robustGP.enrichment.Enrichment as enrich\n",
    "import robustGP.optimisers as opt\n",
    "from scipy.stats import qmc\n",
    "\n",
    "from adaptive_article import initialize_branin, fname, callback\n",
    "\n",
    "# # Plotting options\n",
    "# plt.style.use(\"seaborn\")\n",
    "# plt.rcParams.update(\n",
    "#     {\n",
    "#         \"text.usetex\": True,\n",
    "#         \"font.family\": \"sans-serif\",\n",
    "#         \"font.serif\": [\"Computer Modern Roman\"],\n",
    "#         \"image.cmap\": \"viridis\",\n",
    "#         \"figure.figsize\": [5.748031686730317, 3.552478950810724],\n",
    "#         \"savefig.dpi\": 400,\n",
    "#     }\n",
    "# )\n",
    "# plt.rc(\"text.latex\", preamble=r\"\\usepackage{amsmath} \\usepackage{amssymb}\")\n",
    "# graphics_folder = \"/home/victor/collab_article/adaptive/figures/\"\n",
    "# graphics_folder = \"./figures/\"\n",
    "\n",
    "bounds = np.asarray([[0, 1], [0, 1]])\n",
    "# For plots\n",
    "x, y = np.linspace(0, 1, 2**3), np.linspace(0, 1, 2**3)\n",
    "(XY, (xmg, ymg)) = tools.pairify((x, y))\n",
    "xl, yl = np.linspace(0, 1, 2**6), np.linspace(0, 1, 2**6)\n",
    "(XYl, (xmgl, ymgl)) = tools.pairify((xl, yl))\n",
    "Niter = 100"
   ]
  },
  {
   "cell_type": "code",
   "execution_count": 25,
   "metadata": {},
   "outputs": [],
   "source": [
    "def callback(arg, i, filename):\n",
    "    if i % 5 == 0:\n",
    "        mdel, sdel = arg.predict_GPdelta(XY, alpha=2)\n",
    "        n_added_points = len(arg.gp.X_train_) - 10\n",
    "        m, s = arg.predict(XY, return_std=True)\n",
    "        npts = int(np.sqrt(len(XY)))\n",
    "\n",
    "    # plt.figure(figsize=(8, 6))\n",
    "    # plt.subplot(2, 2, 1)\n",
    "    # plt.contourf(xmg, ymg, m.reshape(npts, npts))\n",
    "    # plt.plot(arg.gp.X_train_[:10, 0], arg.gp.X_train_[:10, 1], \".w\")\n",
    "    # plt.plot(arg.gp.X_train_[10:, 0], arg.gp.X_train_[10:, 1], \".r\")\n",
    "    # plt.title(r\"$m_Z$\")\n",
    "\n",
    "    # plt.subplot(2, 2, 3)\n",
    "    # plt.contourf(xmg, ymg, s.reshape(npts, npts))\n",
    "    # plt.plot(arg.gp.X_train_[:10, 0], arg.gp.X_train_[:10, 1], \".w\")\n",
    "    # plt.plot(arg.gp.X_train_[10:, 0], arg.gp.X_train_[10:, 1], \".r\")\n",
    "    # plt.title(r\"$\\sigma_{Z}$\")\n",
    "\n",
    "    # plt.subplot(2, 2, 2)\n",
    "    # plt.contourf(xmg, ymg, mdel.reshape(npts, npts))\n",
    "    # plt.plot(arg.gp.X_train_[:10, 0], arg.gp.X_train_[:10, 1], \".w\")\n",
    "    # plt.plot(arg.gp.X_train_[10:, 0], arg.gp.X_train_[10:, 1], \".r\")\n",
    "    # plt.title(r\"$m_{\\Delta}$\")\n",
    "\n",
    "    # plt.subplot(2, 2, 4)\n",
    "    # plt.contourf(xmg, ymg, sdel.reshape(npts, npts))\n",
    "    # plt.plot(arg.gp.X_train_[:10, 0], arg.gp.X_train_[:10, 1], \".w\")\n",
    "    # plt.plot(arg.gp.X_train_[10:, 0], arg.gp.X_train_[10:, 1], \".r\")\n",
    "    # plt.title(r\"$\\sigma_{\\Delta}$\")\n",
    "\n",
    "    # if isinstance(filename, str):\n",
    "    #     fname = filename\n",
    "    # elif filename is None:\n",
    "    #     fname = f\"{graphics_folder}maxvar_{n_added_points}.png\"\n",
    "    # else:\n",
    "    #     fname = filename(n_added_points)\n",
    "    # plt.tight_layout()\n",
    "    # plt.savefig(fname)\n",
    "    # plt.close()\n",
    "        return (np.sum(s**2), np.sum(sdel**2))\n",
    "    else: \n",
    "        return np.nan, np.nan"
   ]
  },
  {
   "cell_type": "code",
   "execution_count": 26,
   "metadata": {},
   "outputs": [],
   "source": [
    "## Sobol sequence\n",
    "sobol_sampler = qmc.Sobol(d=2)\n",
    "initial_design = sobol_sampler.random_base2(m=3)\n",
    "branin_sobol = initialize_branin(initial_design=initial_design)"
   ]
  },
  {
   "cell_type": "code",
   "execution_count": 27,
   "metadata": {},
   "outputs": [
    {
     "name": "stderr",
     "output_type": "stream",
     "text": [
      " 74%|███████▍  | 74/100 [02:24<01:09,  2.66s/it]/home/vtrappler/robustGP/.venvrobustGP/lib/python3.8/site-packages/sklearn/gaussian_process/_gpr.py:616: ConvergenceWarning: lbfgs failed to converge (status=2):\n",
      "ABNORMAL_TERMINATION_IN_LNSRCH.\n",
      "\n",
      "Increase the number of iterations (max_iter) or scale the data as shown in:\n",
      "    https://scikit-learn.org/stable/modules/preprocessing.html\n",
      "  _check_optimize_result(\"lbfgs\", opt_res)\n",
      " 82%|████████▏ | 82/100 [02:54<01:01,  3.44s/it]/home/vtrappler/robustGP/.venvrobustGP/lib/python3.8/site-packages/sklearn/gaussian_process/_gpr.py:616: ConvergenceWarning: lbfgs failed to converge (status=2):\n",
      "ABNORMAL_TERMINATION_IN_LNSRCH.\n",
      "\n",
      "Increase the number of iterations (max_iter) or scale the data as shown in:\n",
      "    https://scikit-learn.org/stable/modules/preprocessing.html\n",
      "  _check_optimize_result(\"lbfgs\", opt_res)\n",
      " 94%|█████████▍| 94/100 [03:27<00:15,  2.53s/it]/home/vtrappler/robustGP/.venvrobustGP/lib/python3.8/site-packages/sklearn/gaussian_process/_gpr.py:616: ConvergenceWarning: lbfgs failed to converge (status=2):\n",
      "ABNORMAL_TERMINATION_IN_LNSRCH.\n",
      "\n",
      "Increase the number of iterations (max_iter) or scale the data as shown in:\n",
      "    https://scikit-learn.org/stable/modules/preprocessing.html\n",
      "  _check_optimize_result(\"lbfgs\", opt_res)\n",
      "100%|██████████| 100/100 [03:43<00:00,  2.23s/it]\n"
     ]
    }
   ],
   "source": [
    "## Halton sequence\n",
    "\n",
    "halton_sampler = qmc.Halton(d=2)\n",
    "initial_design = halton_sampler.random(n=8)\n",
    "branin_halton = initialize_branin(initial_design=initial_design)\n",
    "\n",
    "\n",
    "class HaltonEnrich(enrich.InfillEnrichment):\n",
    "    def __init__(self, bounds, sampler):\n",
    "        super(HaltonEnrich, self).__init__(bounds)\n",
    "        self.sampler = sampler\n",
    "\n",
    "    def run(self, gp):\n",
    "        return np.atleast_2d(self.sampler.random(n=1)), \"Halton\"\n",
    "\n",
    "\n",
    "halton_enrich = HaltonEnrich(bounds, halton_sampler)\n",
    "branin_halton.set_enrichment(halton_enrich)\n",
    "\n",
    "\n",
    "run_diag = branin_halton.run(\n",
    "    Niter=Niter, callback=partial(callback, filename=fname(\"Halton\"))\n",
    ")\n",
    "imse_halton, imse_del_halton = list(zip(*run_diag))\n",
    "halton_dict = {\n",
    "    \"model\": branin_halton,\n",
    "    \"logs\": {\"imse\": imse_halton, \"imse_del\": imse_del_halton},\n",
    "}\n",
    "result_dictionary = {\"halton\": halton_dict}\n",
    "\n",
    "## Monte Carlo\n",
    "\n"
   ]
  },
  {
   "cell_type": "code",
   "execution_count": 28,
   "metadata": {},
   "outputs": [
    {
     "name": "stderr",
     "output_type": "stream",
     "text": [
      " 89%|████████▉ | 89/100 [04:40<00:41,  3.81s/it]/home/vtrappler/robustGP/.venvrobustGP/lib/python3.8/site-packages/sklearn/gaussian_process/_gpr.py:616: ConvergenceWarning: lbfgs failed to converge (status=2):\n",
      "ABNORMAL_TERMINATION_IN_LNSRCH.\n",
      "\n",
      "Increase the number of iterations (max_iter) or scale the data as shown in:\n",
      "    https://scikit-learn.org/stable/modules/preprocessing.html\n",
      "  _check_optimize_result(\"lbfgs\", opt_res)\n",
      "100%|██████████| 100/100 [05:35<00:00,  3.36s/it]\n",
      " 39%|███▉      | 39/100 [00:46<01:06,  1.08s/it]/home/vtrappler/robustGP/.venvrobustGP/lib/python3.8/site-packages/sklearn/gaussian_process/_gpr.py:616: ConvergenceWarning: lbfgs failed to converge (status=2):\n",
      "ABNORMAL_TERMINATION_IN_LNSRCH.\n",
      "\n",
      "Increase the number of iterations (max_iter) or scale the data as shown in:\n",
      "    https://scikit-learn.org/stable/modules/preprocessing.html\n",
      "  _check_optimize_result(\"lbfgs\", opt_res)\n",
      "100%|██████████| 100/100 [04:54<00:00,  2.94s/it]\n",
      " 39%|███▉      | 39/100 [01:26<03:19,  3.27s/it]/home/vtrappler/robustGP/.venvrobustGP/lib/python3.8/site-packages/sklearn/gaussian_process/_gpr.py:616: ConvergenceWarning: lbfgs failed to converge (status=2):\n",
      "ABNORMAL_TERMINATION_IN_LNSRCH.\n",
      "\n",
      "Increase the number of iterations (max_iter) or scale the data as shown in:\n",
      "    https://scikit-learn.org/stable/modules/preprocessing.html\n",
      "  _check_optimize_result(\"lbfgs\", opt_res)\n",
      " 68%|██████▊   | 68/100 [03:39<04:43,  8.86s/it]/home/vtrappler/robustGP/.venvrobustGP/lib/python3.8/site-packages/sklearn/gaussian_process/_gpr.py:616: ConvergenceWarning: lbfgs failed to converge (status=2):\n",
      "ABNORMAL_TERMINATION_IN_LNSRCH.\n",
      "\n",
      "Increase the number of iterations (max_iter) or scale the data as shown in:\n",
      "    https://scikit-learn.org/stable/modules/preprocessing.html\n",
      "  _check_optimize_result(\"lbfgs\", opt_res)\n",
      " 71%|███████   | 71/100 [04:05<04:11,  8.69s/it]/home/vtrappler/robustGP/.venvrobustGP/lib/python3.8/site-packages/sklearn/gaussian_process/_gpr.py:616: ConvergenceWarning: lbfgs failed to converge (status=2):\n",
      "ABNORMAL_TERMINATION_IN_LNSRCH.\n",
      "\n",
      "Increase the number of iterations (max_iter) or scale the data as shown in:\n",
      "    https://scikit-learn.org/stable/modules/preprocessing.html\n",
      "  _check_optimize_result(\"lbfgs\", opt_res)\n",
      "100%|██████████| 100/100 [05:46<00:00,  3.46s/it]\n",
      " 55%|█████▌    | 55/100 [02:46<01:12,  1.61s/it]/home/vtrappler/robustGP/.venvrobustGP/lib/python3.8/site-packages/sklearn/gaussian_process/_gpr.py:616: ConvergenceWarning: lbfgs failed to converge (status=2):\n",
      "ABNORMAL_TERMINATION_IN_LNSRCH.\n",
      "\n",
      "Increase the number of iterations (max_iter) or scale the data as shown in:\n",
      "    https://scikit-learn.org/stable/modules/preprocessing.html\n",
      "  _check_optimize_result(\"lbfgs\", opt_res)\n",
      " 87%|████████▋ | 87/100 [04:26<00:41,  3.21s/it]/home/vtrappler/robustGP/.venvrobustGP/lib/python3.8/site-packages/sklearn/gaussian_process/_gpr.py:616: ConvergenceWarning: lbfgs failed to converge (status=2):\n",
      "ABNORMAL_TERMINATION_IN_LNSRCH.\n",
      "\n",
      "Increase the number of iterations (max_iter) or scale the data as shown in:\n",
      "    https://scikit-learn.org/stable/modules/preprocessing.html\n",
      "  _check_optimize_result(\"lbfgs\", opt_res)\n",
      "100%|██████████| 100/100 [05:17<00:00,  3.18s/it]\n",
      " 58%|█████▊    | 58/100 [01:43<01:07,  1.61s/it]/home/vtrappler/robustGP/.venvrobustGP/lib/python3.8/site-packages/sklearn/gaussian_process/_gpr.py:616: ConvergenceWarning: lbfgs failed to converge (status=2):\n",
      "ABNORMAL_TERMINATION_IN_LNSRCH.\n",
      "\n",
      "Increase the number of iterations (max_iter) or scale the data as shown in:\n",
      "    https://scikit-learn.org/stable/modules/preprocessing.html\n",
      "  _check_optimize_result(\"lbfgs\", opt_res)\n",
      " 72%|███████▏  | 72/100 [02:25<01:33,  3.35s/it]/home/vtrappler/robustGP/.venvrobustGP/lib/python3.8/site-packages/sklearn/gaussian_process/_gpr.py:616: ConvergenceWarning: lbfgs failed to converge (status=2):\n",
      "ABNORMAL_TERMINATION_IN_LNSRCH.\n",
      "\n",
      "Increase the number of iterations (max_iter) or scale the data as shown in:\n",
      "    https://scikit-learn.org/stable/modules/preprocessing.html\n",
      "  _check_optimize_result(\"lbfgs\", opt_res)\n",
      " 87%|████████▋ | 87/100 [03:31<01:04,  4.97s/it]/home/vtrappler/robustGP/.venvrobustGP/lib/python3.8/site-packages/sklearn/gaussian_process/_gpr.py:616: ConvergenceWarning: lbfgs failed to converge (status=2):\n",
      "ABNORMAL_TERMINATION_IN_LNSRCH.\n",
      "\n",
      "Increase the number of iterations (max_iter) or scale the data as shown in:\n",
      "    https://scikit-learn.org/stable/modules/preprocessing.html\n",
      "  _check_optimize_result(\"lbfgs\", opt_res)\n",
      " 90%|█████████ | 90/100 [03:42<00:44,  4.45s/it]/home/vtrappler/robustGP/.venvrobustGP/lib/python3.8/site-packages/sklearn/gaussian_process/_gpr.py:616: ConvergenceWarning: lbfgs failed to converge (status=2):\n",
      "ABNORMAL_TERMINATION_IN_LNSRCH.\n",
      "\n",
      "Increase the number of iterations (max_iter) or scale the data as shown in:\n",
      "    https://scikit-learn.org/stable/modules/preprocessing.html\n",
      "  _check_optimize_result(\"lbfgs\", opt_res)\n",
      "100%|██████████| 100/100 [04:14<00:00,  2.55s/it]\n",
      " 98%|█████████▊| 98/100 [05:11<00:12,  6.21s/it]/home/vtrappler/robustGP/.venvrobustGP/lib/python3.8/site-packages/sklearn/gaussian_process/_gpr.py:616: ConvergenceWarning: lbfgs failed to converge (status=2):\n",
      "ABNORMAL_TERMINATION_IN_LNSRCH.\n",
      "\n",
      "Increase the number of iterations (max_iter) or scale the data as shown in:\n",
      "    https://scikit-learn.org/stable/modules/preprocessing.html\n",
      "  _check_optimize_result(\"lbfgs\", opt_res)\n",
      "100%|██████████| 100/100 [05:19<00:00,  3.20s/it]\n",
      "100%|██████████| 100/100 [08:17<00:00,  4.97s/it]\n",
      " 61%|██████    | 61/100 [04:04<05:18,  8.18s/it]/home/vtrappler/robustGP/.venvrobustGP/lib/python3.8/site-packages/sklearn/gaussian_process/_gpr.py:616: ConvergenceWarning: lbfgs failed to converge (status=2):\n",
      "ABNORMAL_TERMINATION_IN_LNSRCH.\n",
      "\n",
      "Increase the number of iterations (max_iter) or scale the data as shown in:\n",
      "    https://scikit-learn.org/stable/modules/preprocessing.html\n",
      "  _check_optimize_result(\"lbfgs\", opt_res)\n",
      " 62%|██████▏   | 62/100 [04:09<04:31,  7.14s/it]/home/vtrappler/robustGP/.venvrobustGP/lib/python3.8/site-packages/sklearn/gaussian_process/_gpr.py:616: ConvergenceWarning: lbfgs failed to converge (status=2):\n",
      "ABNORMAL_TERMINATION_IN_LNSRCH.\n",
      "\n",
      "Increase the number of iterations (max_iter) or scale the data as shown in:\n",
      "    https://scikit-learn.org/stable/modules/preprocessing.html\n",
      "  _check_optimize_result(\"lbfgs\", opt_res)\n",
      " 93%|█████████▎| 93/100 [06:10<00:29,  4.19s/it]/home/vtrappler/robustGP/.venvrobustGP/lib/python3.8/site-packages/sklearn/gaussian_process/_gpr.py:616: ConvergenceWarning: lbfgs failed to converge (status=2):\n",
      "ABNORMAL_TERMINATION_IN_LNSRCH.\n",
      "\n",
      "Increase the number of iterations (max_iter) or scale the data as shown in:\n",
      "    https://scikit-learn.org/stable/modules/preprocessing.html\n",
      "  _check_optimize_result(\"lbfgs\", opt_res)\n",
      "100%|██████████| 100/100 [06:44<00:00,  4.04s/it]\n",
      " 50%|█████     | 50/100 [02:28<02:18,  2.78s/it]/home/vtrappler/robustGP/.venvrobustGP/lib/python3.8/site-packages/sklearn/gaussian_process/_gpr.py:616: ConvergenceWarning: lbfgs failed to converge (status=2):\n",
      "ABNORMAL_TERMINATION_IN_LNSRCH.\n",
      "\n",
      "Increase the number of iterations (max_iter) or scale the data as shown in:\n",
      "    https://scikit-learn.org/stable/modules/preprocessing.html\n",
      "  _check_optimize_result(\"lbfgs\", opt_res)\n",
      " 57%|█████▋    | 57/100 [02:57<03:01,  4.22s/it]/home/vtrappler/robustGP/.venvrobustGP/lib/python3.8/site-packages/sklearn/gaussian_process/_gpr.py:616: ConvergenceWarning: lbfgs failed to converge (status=2):\n",
      "ABNORMAL_TERMINATION_IN_LNSRCH.\n",
      "\n",
      "Increase the number of iterations (max_iter) or scale the data as shown in:\n",
      "    https://scikit-learn.org/stable/modules/preprocessing.html\n",
      "  _check_optimize_result(\"lbfgs\", opt_res)\n",
      " 73%|███████▎  | 73/100 [04:06<01:44,  3.88s/it]/home/vtrappler/robustGP/.venvrobustGP/lib/python3.8/site-packages/sklearn/gaussian_process/_gpr.py:616: ConvergenceWarning: lbfgs failed to converge (status=2):\n",
      "ABNORMAL_TERMINATION_IN_LNSRCH.\n",
      "\n",
      "Increase the number of iterations (max_iter) or scale the data as shown in:\n",
      "    https://scikit-learn.org/stable/modules/preprocessing.html\n",
      "  _check_optimize_result(\"lbfgs\", opt_res)\n",
      " 79%|███████▉  | 79/100 [04:30<01:15,  3.59s/it]/home/vtrappler/robustGP/.venvrobustGP/lib/python3.8/site-packages/sklearn/gaussian_process/_gpr.py:616: ConvergenceWarning: lbfgs failed to converge (status=2):\n",
      "ABNORMAL_TERMINATION_IN_LNSRCH.\n",
      "\n",
      "Increase the number of iterations (max_iter) or scale the data as shown in:\n",
      "    https://scikit-learn.org/stable/modules/preprocessing.html\n",
      "  _check_optimize_result(\"lbfgs\", opt_res)\n",
      "100%|██████████| 100/100 [06:28<00:00,  3.88s/it]\n",
      " 31%|███       | 31/100 [01:47<07:09,  6.22s/it]/home/vtrappler/robustGP/.venvrobustGP/lib/python3.8/site-packages/sklearn/gaussian_process/_gpr.py:616: ConvergenceWarning: lbfgs failed to converge (status=2):\n",
      "ABNORMAL_TERMINATION_IN_LNSRCH.\n",
      "\n",
      "Increase the number of iterations (max_iter) or scale the data as shown in:\n",
      "    https://scikit-learn.org/stable/modules/preprocessing.html\n",
      "  _check_optimize_result(\"lbfgs\", opt_res)\n",
      " 95%|█████████▌| 95/100 [06:23<00:19,  3.88s/it]/home/vtrappler/robustGP/.venvrobustGP/lib/python3.8/site-packages/sklearn/gaussian_process/_gpr.py:616: ConvergenceWarning: lbfgs failed to converge (status=2):\n",
      "ABNORMAL_TERMINATION_IN_LNSRCH.\n",
      "\n",
      "Increase the number of iterations (max_iter) or scale the data as shown in:\n",
      "    https://scikit-learn.org/stable/modules/preprocessing.html\n",
      "  _check_optimize_result(\"lbfgs\", opt_res)\n",
      "100%|██████████| 100/100 [06:57<00:00,  4.18s/it]\n"
     ]
    }
   ],
   "source": [
    "initial_design = scipy.stats.uniform.rvs(size=(10, 2))\n",
    "for i in range(10):\n",
    "    branin_MC = initialize_branin(initial_design=initial_design)\n",
    "    montecarlo_enrich = enrich.MonteCarloEnrich(dim=2, bounds=bounds, sampler=None)\n",
    "    branin_MC.set_enrichment(montecarlo_enrich)\n",
    "\n",
    "    run_diag = branin_MC.run(Niter=Niter, callback=partial(callback, filename=fname(\"MC\")))\n",
    "    imse_MC, imse_del_MC = list(zip(*run_diag))\n",
    "    MC_dict = {\n",
    "        \"model\": branin_MC,\n",
    "        \"logs\": {\"imse\": imse_MC, \"imse_del\": imse_del_MC},\n",
    "    }\n",
    "    result_dictionary[f\"MC_{i}\"] = MC_dict\n"
   ]
  },
  {
   "cell_type": "code",
   "execution_count": 29,
   "metadata": {},
   "outputs": [
    {
     "data": {
      "image/png": "[encoded data removed]",
      "text/plain": [
       "<Figure size 640x480 with 2 Axes>"
      ]
     },
     "metadata": {},
     "output_type": "display_data"
    }
   ],
   "source": [
    "%matplotlib inline\n",
    "fig, axs = plt.subplots(ncols=2)\n",
    "for i in range(5):\n",
    "    imse = np.array(result_dictionary[f\"MC_{i}\"][\"logs\"][\"imse\"])\n",
    "    imse = imse[~np.isnan(imse)]\n",
    "    imse_del = np.array(result_dictionary[f\"MC_{i}\"][\"logs\"][\"imse_del\"])\n",
    "    imse_del = imse_del[~np.isnan(imse_del)]\n",
    "    axs[0].plot(imse, '.-', label=\"imse\", color=\"b\", alpha=0.4)\n",
    "    axs[1].plot(imse_del, '.-', label=\"imse del\", color=\"b\", alpha=0.4)\n",
    "imse = np.array(result_dictionary[\"halton\"][\"logs\"][\"imse\"])\n",
    "imse = imse[~np.isnan(imse)]\n",
    "imse_del = np.array(result_dictionary[\"halton\"][\"logs\"][\"imse_del\"])\n",
    "imse_del = imse_del[~np.isnan(imse_del)]\n",
    "axs[0].plot(imse, '.-', color=\"r\")\n",
    "axs[1].plot(imse_del, '.-', color=\"r\")\n",
    "for ax in axs:\n",
    "    ax.set_yscale(\"log\")\n",
    "plt.show()"
   ]
  },
  {
   "cell_type": "code",
   "execution_count": 19,
   "metadata": {},
   "outputs": [
    {
     "data": {
      "text/plain": [
       "array([246.25886168, 101.04970802,  85.98290347,  58.44202482])"
      ]
     },
     "execution_count": 19,
     "metadata": {},
     "output_type": "execute_result"
    }
   ],
   "source": []
  },
  {
   "cell_type": "code",
   "execution_count": 12,
   "metadata": {},
   "outputs": [
    {
     "data": {
      "text/plain": [
       "(16.703748575911614,\n",
       " nan,\n",
       " nan,\n",
       " nan,\n",
       " nan,\n",
       " 11.80048426956243,\n",
       " nan,\n",
       " nan,\n",
       " nan,\n",
       " nan,\n",
       " 7.212259314239949,\n",
       " nan,\n",
       " nan,\n",
       " nan,\n",
       " nan,\n",
       " 5.08057392395181,\n",
       " nan,\n",
       " nan,\n",
       " nan,\n",
       " nan)"
      ]
     },
     "execution_count": 12,
     "metadata": {},
     "output_type": "execute_result"
    }
   ],
   "source": [
    "imse"
   ]
  },
  {
   "cell_type": "code",
   "execution_count": 30,
   "metadata": {},
   "outputs": [
    {
     "name": "stderr",
     "output_type": "stream",
     "text": [
      "  0%|          | 0/50 [00:00<?, ?it/s]"
     ]
    },
    {
     "name": "stdout",
     "output_type": "stream",
     "text": [
      "Iterat #Fevals   function value  axis ratio  sigma  min&max std  t[m:s]\n",
      "    1      6 -1.861622074223981e-01 1.0e+00 2.93e-01  3e-01  3e-01 0:00.0\n",
      "    2     12 -2.455886969171286e-01 1.4e+00 2.46e-01  2e-01  3e-01 0:00.1\n",
      "    3     18 -3.034061189907559e-01 1.8e+00 2.09e-01  2e-01  2e-01 0:00.1\n",
      "    9     54 -7.087477885343723e-01 3.1e+00 2.39e-01  1e-01  2e-01 0:00.1\n"
     ]
    },
    {
     "name": "stderr",
     "output_type": "stream",
     "text": []
    },
    {
     "name": "stdout",
     "output_type": "stream",
     "text": [
      "termination on maxfevals=50 (Tue Nov 15 17:12:19 2022)\n",
      "final/bestever f-value = -7.197670e-01 -7.197670e-01\n",
      "incumbent solution: [0.976331275194659, 0.9986323525369754]\n",
      "std deviation: [0.14707085778511875, 0.17499420421338946]\n"
     ]
    },
    {
     "name": "stderr",
     "output_type": "stream",
     "text": [
      "  2%|▏         | 1/50 [00:10<08:39, 10.60s/it]"
     ]
    },
    {
     "name": "stdout",
     "output_type": "stream",
     "text": [
      "Iterat #Fevals   function value  axis ratio  sigma  min&max std  t[m:s]\n",
      "    1      6 -1.521427322079449e-01 1.0e+00 2.77e-01  2e-01  3e-01 0:00.0\n",
      "    2     12 -1.339343711592628e-01 1.3e+00 3.17e-01  3e-01  3e-01 0:00.0\n",
      "    3     18 -2.746023815937762e-01 1.5e+00 3.84e-01  4e-01  4e-01 0:00.1\n",
      "    9     54 -1.129409061161508e-01 3.0e+00 1.62e+00  2e+00  3e+00 0:00.1\n"
     ]
    },
    {
     "name": "stderr",
     "output_type": "stream",
     "text": []
    },
    {
     "name": "stdout",
     "output_type": "stream",
     "text": [
      "termination on maxfevals=50 (Tue Nov 15 17:12:30 2022)\n",
      "final/bestever f-value = -5.589997e-02 -2.746024e-01\n",
      "incumbent solution: [0.4934191382708848, 0.9713748643713997]\n",
      "std deviation: [2.6618008892736147, 1.9691017333338738]\n"
     ]
    },
    {
     "name": "stderr",
     "output_type": "stream",
     "text": [
      "  4%|▍         | 2/50 [00:12<04:36,  5.76s/it]"
     ]
    },
    {
     "name": "stdout",
     "output_type": "stream",
     "text": [
      "Iterat #Fevals   function value  axis ratio  sigma  min&max std  t[m:s]\n",
      "    1      6 -3.632865953476286e-01 1.0e+00 2.69e-01  2e-01  3e-01 0:00.0\n",
      "    2     12 -3.906922416725404e-01 1.2e+00 2.06e-01  1e-01  2e-01 0:00.0\n",
      "    3     18 -4.768376256649717e-01 1.5e+00 2.44e-01  2e-01  2e-01 0:00.0\n",
      "    9     54 -4.567264125666785e-01 1.8e+00 1.52e-01  8e-02  8e-02 0:00.1\n"
     ]
    },
    {
     "name": "stderr",
     "output_type": "stream",
     "text": []
    },
    {
     "name": "stdout",
     "output_type": "stream",
     "text": [
      "termination on maxfevals=50 (Tue Nov 15 17:12:32 2022)\n",
      "final/bestever f-value = -4.533535e-01 -4.768376e-01\n",
      "incumbent solution: [0.4041317236696146, 0.27320616670821246]\n",
      "std deviation: [0.08367464338485849, 0.08491512803751902]\n"
     ]
    },
    {
     "name": "stderr",
     "output_type": "stream",
     "text": [
      "  6%|▌         | 3/50 [00:15<03:17,  4.21s/it]"
     ]
    },
    {
     "name": "stdout",
     "output_type": "stream",
     "text": [
      "Iterat #Fevals   function value  axis ratio  sigma  min&max std  t[m:s]\n",
      "    1      6 -3.406917739862858e-01 1.0e+00 3.36e-01  4e-01  4e-01 0:00.0\n",
      "    2     12 -2.599061587678111e-01 1.2e+00 2.64e-01  2e-01  3e-01 0:00.0\n",
      "    3     18 -2.612598149410343e-01 1.2e+00 2.30e-01  2e-01  2e-01 0:00.1\n",
      "    9     54 -4.583255481102986e-01 2.8e+00 1.27e-01  5e-02  1e-01 0:00.1\n"
     ]
    },
    {
     "name": "stderr",
     "output_type": "stream",
     "text": []
    },
    {
     "name": "stdout",
     "output_type": "stream",
     "text": [
      "termination on maxfevals=50 (Tue Nov 15 17:12:35 2022)\n",
      "final/bestever f-value = -4.542567e-01 -4.583255e-01\n",
      "incumbent solution: [0.7186932394061352, 0.9998316895288654]\n",
      "std deviation: [0.05295329065155176, 0.12414630940496818]\n"
     ]
    },
    {
     "name": "stderr",
     "output_type": "stream",
     "text": [
      "  8%|▊         | 4/50 [00:18<03:02,  3.98s/it]"
     ]
    },
    {
     "name": "stdout",
     "output_type": "stream",
     "text": [
      "Iterat #Fevals   function value  axis ratio  sigma  min&max std  t[m:s]\n",
      "    1      6 -4.633152708856013e-01 1.0e+00 3.59e-01  4e-01  4e-01 0:00.1\n",
      "    2     12 -4.138680922070688e-01 1.7e+00 3.04e-01  3e-01  3e-01 0:00.1\n",
      "    3     18 -1.931240098893567e-01 1.6e+00 2.54e-01  2e-01  2e-01 0:00.1\n",
      "    9     54 -2.726821964490667e-01 2.1e+00 1.57e-01  7e-02  1e-01 0:00.2\n"
     ]
    },
    {
     "name": "stderr",
     "output_type": "stream",
     "text": []
    },
    {
     "name": "stdout",
     "output_type": "stream",
     "text": [
      "termination on maxfevals=50 (Tue Nov 15 17:12:39 2022)\n",
      "final/bestever f-value = -2.670868e-01 -4.633153e-01\n",
      "incumbent solution: [0.24790866774042725, 0.5379667445523256]\n",
      "std deviation: [0.11864491484250296, 0.0688271963342139]\n"
     ]
    },
    {
     "name": "stderr",
     "output_type": "stream",
     "text": [
      " 10%|█         | 5/50 [00:22<02:57,  3.95s/it]"
     ]
    },
    {
     "name": "stdout",
     "output_type": "stream",
     "text": [
      "Iterat #Fevals   function value  axis ratio  sigma  min&max std  t[m:s]\n",
      "    1      6 -1.867872562856412e-01 1.0e+00 2.94e-01  3e-01  3e-01 0:00.0\n",
      "    2     12 -2.180299841141413e-01 1.2e+00 2.81e-01  2e-01  3e-01 0:00.0\n",
      "    3     18 -2.106472491088555e-01 1.5e+00 2.23e-01  2e-01  2e-01 0:00.1\n",
      "    9     54 -2.490007124119178e-01 2.1e+00 1.86e-01  1e-01  2e-01 0:00.2\n"
     ]
    },
    {
     "name": "stderr",
     "output_type": "stream",
     "text": [
      "\n",
      "Evaluate and add point to design: : 1it [00:01,  1.36s/it]"
     ]
    },
    {
     "name": "stdout",
     "output_type": "stream",
     "text": [
      "termination on maxfevals=50 (Tue Nov 15 17:12:43 2022)\n",
      "final/bestever f-value = -2.508975e-01 -2.727840e-01\n",
      "incumbent solution: [0.24586371545667252, 0.588692015999082]\n",
      "std deviation: [0.17176359810620906, 0.09969095997303462]\n"
     ]
    },
    {
     "name": "stderr",
     "output_type": "stream",
     "text": [
      " 12%|█▏        | 6/50 [00:37<05:34,  7.60s/it]"
     ]
    },
    {
     "name": "stdout",
     "output_type": "stream",
     "text": [
      "Iterat #Fevals   function value  axis ratio  sigma  min&max std  t[m:s]\n",
      "    1      6 -3.295470035509718e-01 1.0e+00 3.23e-01  3e-01  4e-01 0:00.0\n",
      "    2     12 -2.342709134936329e-01 1.3e+00 3.59e-01  4e-01  4e-01 0:00.0\n",
      "    3     18 -1.762745043405479e-01 1.2e+00 2.83e-01  3e-01  3e-01 0:00.0\n",
      "    9     54 -1.652750343625944e-01 2.6e+00 2.79e-01  2e-01  3e-01 0:00.1\n"
     ]
    },
    {
     "name": "stderr",
     "output_type": "stream",
     "text": []
    },
    {
     "name": "stdout",
     "output_type": "stream",
     "text": [
      "termination on maxfevals=50 (Tue Nov 15 17:12:57 2022)\n",
      "final/bestever f-value = -2.400511e-01 -3.295470e-01\n",
      "incumbent solution: [0.9502094671745644, 0.7210598869352918]\n",
      "std deviation: [0.3383775710197579, 0.1667227426958229]\n"
     ]
    },
    {
     "name": "stderr",
     "output_type": "stream",
     "text": [
      " 14%|█▍        | 7/50 [00:41<04:40,  6.53s/it]"
     ]
    },
    {
     "name": "stdout",
     "output_type": "stream",
     "text": [
      "Iterat #Fevals   function value  axis ratio  sigma  min&max std  t[m:s]\n",
      "    1      6 -1.869232411885486e-01 1.0e+00 2.21e-01  2e-01  2e-01 0:00.0\n",
      "    2     12 -2.424406906036062e-01 1.2e+00 2.81e-01  2e-01  4e-01 0:00.0\n",
      "    3     18 -1.922523416057786e-01 1.9e+00 2.22e-01  1e-01  3e-01 0:00.1\n",
      "    9     54 -2.360855616791878e-01 5.7e+00 1.47e-01  7e-02  2e-01 0:00.4\n"
     ]
    },
    {
     "name": "stderr",
     "output_type": "stream",
     "text": []
    },
    {
     "name": "stdout",
     "output_type": "stream",
     "text": [
      "termination on maxfevals=50 (Tue Nov 15 17:13:04 2022)\n",
      "final/bestever f-value = -2.264429e-01 -2.424407e-01\n",
      "incumbent solution: [0.5628686313497426, 0.4787164720469896]\n",
      "std deviation: [0.07063379917939352, 0.22956723743187113]\n"
     ]
    },
    {
     "name": "stderr",
     "output_type": "stream",
     "text": [
      " 16%|█▌        | 8/50 [00:50<04:56,  7.06s/it]"
     ]
    },
    {
     "name": "stdout",
     "output_type": "stream",
     "text": [
      "Iterat #Fevals   function value  axis ratio  sigma  min&max std  t[m:s]\n",
      "    1      6 -1.960417187064242e-01 1.0e+00 2.85e-01  2e-01  3e-01 0:00.1\n",
      "    2     12 -1.731989587088712e-01 1.3e+00 5.18e-01  4e-01  7e-01 0:00.2\n",
      "    3     18 -1.310152330678420e-01 1.8e+00 5.70e-01  4e-01  6e-01 0:00.2\n",
      "    9     54 -2.361378446115205e-01 1.9e+00 2.98e-01  1e-01  3e-01 0:00.3\n"
     ]
    },
    {
     "name": "stderr",
     "output_type": "stream",
     "text": [
      "\n"
     ]
    },
    {
     "name": "stdout",
     "output_type": "stream",
     "text": [
      "termination on maxfevals=50 (Tue Nov 15 17:13:11 2022)\n",
      "final/bestever f-value = -1.284366e-01 -2.724573e-01\n",
      "incumbent solution: [0.8818720437947671, 0.6915089341030862]\n",
      "std deviation: [0.2527223494020913, 0.12990697675909976]\n"
     ]
    },
    {
     "name": "stderr",
     "output_type": "stream",
     "text": [
      " 18%|█▊        | 9/50 [00:55<04:33,  6.67s/it]"
     ]
    },
    {
     "name": "stdout",
     "output_type": "stream",
     "text": [
      "Iterat #Fevals   function value  axis ratio  sigma  min&max std  t[m:s]\n",
      "    1      6 -2.260480805122014e-01 1.0e+00 2.62e-01  2e-01  3e-01 0:00.0\n",
      "    2     12 -2.028136983067672e-01 1.1e+00 2.01e-01  2e-01  2e-01 0:00.1\n",
      "    3     18 -1.329971856266998e-01 1.1e+00 1.84e-01  1e-01  1e-01 0:00.1\n",
      "    9     54 -2.257006979770894e-01 1.2e+00 5.96e-02  2e-02  3e-02 0:00.2\n"
     ]
    },
    {
     "name": "stderr",
     "output_type": "stream",
     "text": [
      "\n",
      "Evaluate and add point to design: : 1it [00:01,  1.52s/it]"
     ]
    },
    {
     "name": "stdout",
     "output_type": "stream",
     "text": [
      "termination on maxfevals=50 (Tue Nov 15 17:13:16 2022)\n",
      "final/bestever f-value = -2.241265e-01 -2.260481e-01\n",
      "incumbent solution: [0.6011524539843889, 0.510820596774249]\n",
      "std deviation: [0.021393405144775973, 0.027628036611247665]\n"
     ]
    },
    {
     "name": "stderr",
     "output_type": "stream",
     "text": [
      " 20%|██        | 10/50 [00:59<03:55,  5.88s/it]"
     ]
    },
    {
     "name": "stdout",
     "output_type": "stream",
     "text": [
      "Iterat #Fevals   function value  axis ratio  sigma  min&max std  t[m:s]\n",
      "    1      6 -9.903897151912866e-02 1.0e+00 2.82e-01  2e-01  3e-01 0:00.0\n",
      "    2     12 -6.356123530411539e-02 1.1e+00 2.39e-01  2e-01  2e-01 0:00.0\n",
      "    3     18 -9.979167759220807e-02 1.0e+00 1.81e-01  1e-01  1e-01 0:00.1\n",
      "    9     54 -1.243449408798994e-01 3.1e+00 2.63e-01  2e-01  2e-01 0:00.2\n"
     ]
    },
    {
     "name": "stderr",
     "output_type": "stream",
     "text": [
      "\n"
     ]
    },
    {
     "name": "stdout",
     "output_type": "stream",
     "text": [
      "termination on maxfevals=50 (Tue Nov 15 17:13:21 2022)\n",
      "final/bestever f-value = -5.822632e-02 -1.243449e-01\n",
      "incumbent solution: [0.3943696960835246, 0.5677231221320433]\n",
      "std deviation: [0.20383648783036096, 0.22152446203928425]\n"
     ]
    },
    {
     "name": "stderr",
     "output_type": "stream",
     "text": [
      " 22%|██▏       | 11/50 [01:17<06:07,  9.43s/it]"
     ]
    },
    {
     "name": "stdout",
     "output_type": "stream",
     "text": [
      "Iterat #Fevals   function value  axis ratio  sigma  min&max std  t[m:s]\n",
      "    1      6 -6.726875079013474e-02 1.0e+00 3.13e-01  3e-01  3e-01 0:00.2\n",
      "    2     12 -8.276439760074085e-02 1.4e+00 4.22e-01  5e-01  5e-01 0:00.2\n",
      "    3     18 -9.208846095981171e-02 1.1e+00 4.72e-01  5e-01  6e-01 0:00.3\n",
      "    9     54 -1.135343802077232e-01 1.7e+00 1.86e-01  1e-01  1e-01 0:00.4\n"
     ]
    },
    {
     "name": "stderr",
     "output_type": "stream",
     "text": [
      "\n"
     ]
    },
    {
     "name": "stdout",
     "output_type": "stream",
     "text": [
      "termination on maxfevals=50 (Tue Nov 15 17:13:38 2022)\n",
      "final/bestever f-value = -8.865239e-02 -1.379006e-01\n",
      "incumbent solution: [0.9989956841497329, 0.2243850574753547]\n",
      "std deviation: [0.09638715085075306, 0.1400920251534759]\n"
     ]
    },
    {
     "name": "stderr",
     "output_type": "stream",
     "text": [
      " 24%|██▍       | 12/50 [01:23<05:17,  8.35s/it]"
     ]
    },
    {
     "name": "stdout",
     "output_type": "stream",
     "text": [
      "Iterat #Fevals   function value  axis ratio  sigma  min&max std  t[m:s]\n",
      "    1      6 -7.354698078179722e-02 1.0e+00 2.61e-01  2e-01  2e-01 0:00.1\n",
      "    2     12 -8.413907231125607e-02 1.1e+00 2.53e-01  2e-01  2e-01 0:00.1\n",
      "    3     18 -8.383696902058034e-02 1.2e+00 2.21e-01  2e-01  2e-01 0:00.1\n",
      "    9     54 -1.373590686102250e-01 1.4e+00 2.04e-01  1e-01  1e-01 0:00.3\n"
     ]
    },
    {
     "name": "stderr",
     "output_type": "stream",
     "text": []
    },
    {
     "name": "stdout",
     "output_type": "stream",
     "text": [
      "termination on maxfevals=50 (Tue Nov 15 17:13:43 2022)\n",
      "final/bestever f-value = -1.152579e-01 -1.475501e-01\n",
      "incumbent solution: [0.000657121235145856, 0.48529041380724525]\n",
      "std deviation: [0.13613010635172784, 0.11454319241170946]\n"
     ]
    },
    {
     "name": "stderr",
     "output_type": "stream",
     "text": [
      " 26%|██▌       | 13/50 [01:27<04:19,  7.01s/it]"
     ]
    },
    {
     "name": "stdout",
     "output_type": "stream",
     "text": [
      "Iterat #Fevals   function value  axis ratio  sigma  min&max std  t[m:s]\n",
      "    1      6 -8.321742988083768e-02 1.0e+00 2.65e-01  2e-01  2e-01 0:00.0\n",
      "    2     12 -8.844057630724798e-02 1.1e+00 3.75e-01  3e-01  5e-01 0:00.0\n",
      "    3     18 -7.631757982847864e-02 1.7e+00 3.39e-01  3e-01  4e-01 0:00.0\n",
      "    9     54 -8.579209054178716e-02 2.3e+00 7.78e-01  8e-01  1e+00 0:00.1\n"
     ]
    },
    {
     "name": "stderr",
     "output_type": "stream",
     "text": []
    },
    {
     "name": "stdout",
     "output_type": "stream",
     "text": [
      "termination on maxfevals=50 (Tue Nov 15 17:13:46 2022)\n",
      "final/bestever f-value = -4.912403e-02 -1.457387e-01\n",
      "incumbent solution: [0.25869034649398515, 0.9802766409855144]\n",
      "std deviation: [1.458924137474178, 0.7790584117887611]\n"
     ]
    },
    {
     "name": "stderr",
     "output_type": "stream",
     "text": [
      " 28%|██▊       | 14/50 [01:29<03:19,  5.53s/it]"
     ]
    },
    {
     "name": "stdout",
     "output_type": "stream",
     "text": [
      "Iterat #Fevals   function value  axis ratio  sigma  min&max std  t[m:s]\n",
      "    1      6 -8.858134729993328e-02 1.0e+00 3.23e-01  3e-01  4e-01 0:00.0\n",
      "    2     12 -5.396548995679430e-02 1.2e+00 2.34e-01  2e-01  2e-01 0:00.0\n",
      "    3     18 -5.031620487872911e-02 1.2e+00 2.25e-01  2e-01  2e-01 0:00.0\n",
      "    9     54 -9.332667031563659e-02 2.4e+00 2.88e-01  3e-01  4e-01 0:00.1\n"
     ]
    },
    {
     "name": "stderr",
     "output_type": "stream",
     "text": []
    },
    {
     "name": "stdout",
     "output_type": "stream",
     "text": [
      "termination on maxfevals=50 (Tue Nov 15 17:13:49 2022)\n",
      "final/bestever f-value = -1.227097e-02 -1.051599e-01\n",
      "incumbent solution: [0.2994516934691328, 0.4715778294139358]\n",
      "std deviation: [0.37245674248000255, 0.28963705404886936]\n"
     ]
    },
    {
     "name": "stderr",
     "output_type": "stream",
     "text": [
      " 30%|███       | 15/50 [01:31<02:33,  4.38s/it]"
     ]
    },
    {
     "name": "stdout",
     "output_type": "stream",
     "text": [
      "Iterat #Fevals   function value  axis ratio  sigma  min&max std  t[m:s]\n",
      "    1      6 -4.262272285955138e-02 1.0e+00 2.69e-01  2e-01  3e-01 0:00.0\n",
      "    2     12 -7.097376868230042e-02 1.2e+00 2.64e-01  2e-01  3e-01 0:00.0\n",
      "    3     18 -5.606635771902412e-02 1.5e+00 2.85e-01  2e-01  3e-01 0:00.1\n",
      "    9     54 -8.482622812570860e-02 1.5e+00 9.61e-02  5e-02  5e-02 0:00.1\n"
     ]
    },
    {
     "name": "stderr",
     "output_type": "stream",
     "text": []
    },
    {
     "name": "stdout",
     "output_type": "stream",
     "text": [
      "termination on maxfevals=50 (Tue Nov 15 17:13:50 2022)\n",
      "final/bestever f-value = -8.371942e-02 -8.482623e-02\n",
      "incumbent solution: [0.5982389391837635, 0.2042441410865398]\n",
      "std deviation: [0.0511415702882787, 0.05071170503019558]\n"
     ]
    },
    {
     "name": "stderr",
     "output_type": "stream",
     "text": [
      " 32%|███▏      | 16/50 [01:39<03:06,  5.50s/it]"
     ]
    },
    {
     "name": "stdout",
     "output_type": "stream",
     "text": [
      "Iterat #Fevals   function value  axis ratio  sigma  min&max std  t[m:s]\n",
      "    1      6 -6.869320192875061e-02 1.0e+00 2.95e-01  3e-01  3e-01 0:00.0\n",
      "    2     12 -2.690512833189041e-02 1.3e+00 4.16e-01  4e-01  6e-01 0:00.0\n",
      "    3     18 -8.222167534305436e-02 2.1e+00 4.40e-01  4e-01  6e-01 0:00.0\n",
      "    9     54 -7.834085773904552e-02 2.5e+00 2.09e-01  1e-01  2e-01 0:00.1\n"
     ]
    },
    {
     "name": "stderr",
     "output_type": "stream",
     "text": []
    },
    {
     "name": "stdout",
     "output_type": "stream",
     "text": [
      "termination on maxfevals=50 (Tue Nov 15 17:13:58 2022)\n",
      "final/bestever f-value = -4.349394e-02 -9.199142e-02\n",
      "incumbent solution: [0.5994969439703379, 0.8813451292727956]\n",
      "std deviation: [0.17028223889830288, 0.11440919785216593]\n"
     ]
    },
    {
     "name": "stderr",
     "output_type": "stream",
     "text": [
      " 34%|███▍      | 17/50 [01:40<02:16,  4.13s/it]"
     ]
    },
    {
     "name": "stdout",
     "output_type": "stream",
     "text": [
      "Iterat #Fevals   function value  axis ratio  sigma  min&max std  t[m:s]\n",
      "    1      6 -6.204200124694325e-02 1.0e+00 2.24e-01  2e-01  2e-01 0:00.0\n",
      "    2     12 -5.849733036612815e-02 1.3e+00 1.83e-01  1e-01  2e-01 0:00.0\n",
      "    3     18 -7.121232880262775e-02 1.4e+00 1.49e-01  1e-01  1e-01 0:00.0\n",
      "    9     54 -5.453005618824092e-02 2.3e+00 1.42e-01  7e-02  1e-01 0:00.1\n"
     ]
    },
    {
     "name": "stderr",
     "output_type": "stream",
     "text": []
    },
    {
     "name": "stdout",
     "output_type": "stream",
     "text": [
      "termination on maxfevals=50 (Tue Nov 15 17:13:59 2022)\n",
      "final/bestever f-value = -5.165430e-02 -7.121233e-02\n",
      "incumbent solution: [0.37108327392574264, 0.5337452483405596]\n",
      "std deviation: [0.13092285126462858, 0.06748226534992159]\n"
     ]
    },
    {
     "name": "stderr",
     "output_type": "stream",
     "text": [
      " 36%|███▌      | 18/50 [01:41<01:47,  3.37s/it]"
     ]
    },
    {
     "name": "stdout",
     "output_type": "stream",
     "text": [
      "Iterat #Fevals   function value  axis ratio  sigma  min&max std  t[m:s]\n",
      "    1      6 -3.132777870004988e-02 1.0e+00 3.27e-01  3e-01  4e-01 0:00.0\n",
      "    2     12 -5.241556987817742e-02 1.5e+00 3.50e-01  3e-01  4e-01 0:00.0\n",
      "    3     18 -7.055618428749245e-02 1.3e+00 5.18e-01  5e-01  5e-01 0:00.0\n",
      "    9     54 -9.559353396980463e-02 1.2e+00 3.41e-01  2e-01  2e-01 0:00.1\n"
     ]
    },
    {
     "name": "stderr",
     "output_type": "stream",
     "text": []
    },
    {
     "name": "stdout",
     "output_type": "stream",
     "text": [
      "termination on maxfevals=50 (Tue Nov 15 17:14:01 2022)\n",
      "final/bestever f-value = -1.025106e-01 -1.025106e-01\n",
      "incumbent solution: [0.005088060727257735, 0.27634774335066464]\n",
      "std deviation: [0.20049304354328124, 0.21005765678068616]\n"
     ]
    },
    {
     "name": "stderr",
     "output_type": "stream",
     "text": [
      " 38%|███▊      | 19/50 [01:43<01:27,  2.82s/it]"
     ]
    },
    {
     "name": "stdout",
     "output_type": "stream",
     "text": [
      "Iterat #Fevals   function value  axis ratio  sigma  min&max std  t[m:s]\n",
      "    1      6 -5.136345245830597e-02 1.0e+00 2.83e-01  2e-01  3e-01 0:00.0\n",
      "    2     12 -5.965453533089316e-02 1.2e+00 2.07e-01  2e-01  2e-01 0:00.0\n",
      "    3     18 -5.979878441739150e-02 1.2e+00 4.40e-01  4e-01  5e-01 0:00.0\n",
      "    9     54 -5.640116120979055e-02 1.3e+00 3.77e-01  3e-01  3e-01 0:00.1\n"
     ]
    },
    {
     "name": "stderr",
     "output_type": "stream",
     "text": []
    },
    {
     "name": "stdout",
     "output_type": "stream",
     "text": [
      "termination on maxfevals=50 (Tue Nov 15 17:14:02 2022)\n",
      "final/bestever f-value = -7.011433e-03 -6.019266e-02\n",
      "incumbent solution: [0.02357557961048651, 0.02450041537794707]\n",
      "std deviation: [0.2721571491935606, 0.25638942736956427]\n"
     ]
    },
    {
     "name": "stderr",
     "output_type": "stream",
     "text": [
      " 40%|████      | 20/50 [01:45<01:23,  2.79s/it]"
     ]
    },
    {
     "name": "stdout",
     "output_type": "stream",
     "text": [
      "Iterat #Fevals   function value  axis ratio  sigma  min&max std  t[m:s]\n",
      "    1      6 -5.126711727127153e-02 1.0e+00 3.43e-01  3e-01  4e-01 0:00.0\n",
      "    2     12 -4.885488580047936e-02 1.4e+00 2.98e-01  2e-01  3e-01 0:00.0\n",
      "    3     18 -3.323228934634915e-02 1.5e+00 2.54e-01  2e-01  3e-01 0:00.0\n",
      "    9     54 -5.309637661164635e-02 2.5e+00 9.43e-02  3e-02  7e-02 0:00.1\n"
     ]
    },
    {
     "name": "stderr",
     "output_type": "stream",
     "text": []
    },
    {
     "name": "stdout",
     "output_type": "stream",
     "text": [
      "termination on maxfevals=50 (Tue Nov 15 17:14:05 2022)\n",
      "final/bestever f-value = -5.350503e-02 -5.351576e-02\n",
      "incumbent solution: [0.9146134519608686, 0.5144288313666354]\n",
      "std deviation: [0.06699763272042837, 0.03269349816158822]\n"
     ]
    },
    {
     "name": "stderr",
     "output_type": "stream",
     "text": [
      " 42%|████▏     | 21/50 [01:54<02:14,  4.62s/it]"
     ]
    },
    {
     "name": "stdout",
     "output_type": "stream",
     "text": [
      "Iterat #Fevals   function value  axis ratio  sigma  min&max std  t[m:s]\n",
      "    1      6 -3.536984759777995e-02 1.0e+00 2.89e-01  3e-01  3e-01 0:00.0\n",
      "    2     12 -6.094488291303479e-02 1.2e+00 3.00e-01  3e-01  3e-01 0:00.0\n",
      "    3     18 -6.067941048388814e-02 1.3e+00 2.62e-01  2e-01  3e-01 0:00.0\n",
      "    9     54 -6.345056273742333e-02 1.5e+00 8.94e-02  4e-02  5e-02 0:00.0\n"
     ]
    },
    {
     "name": "stderr",
     "output_type": "stream",
     "text": [
      "\n",
      "Acquisition: : 1it [00:00,  4.45it/s]"
     ]
    },
    {
     "name": "stdout",
     "output_type": "stream",
     "text": [
      "termination on maxfevals=50 (Tue Nov 15 17:14:14 2022)\n",
      "final/bestever f-value = -6.316530e-02 -6.345056e-02\n",
      "incumbent solution: [0.8717302835314878, 0.3196808040144276]\n",
      "std deviation: [0.04144771154525757, 0.045065194736327446]\n"
     ]
    },
    {
     "name": "stderr",
     "output_type": "stream",
     "text": [
      " 44%|████▍     | 22/50 [01:56<01:45,  3.77s/it]"
     ]
    },
    {
     "name": "stdout",
     "output_type": "stream",
     "text": [
      "Iterat #Fevals   function value  axis ratio  sigma  min&max std  t[m:s]\n",
      "    1      6 -4.192653233358890e-02 1.0e+00 2.83e-01  3e-01  3e-01 0:00.0\n",
      "    2     12 -4.234016377782734e-02 1.2e+00 2.47e-01  2e-01  2e-01 0:00.0\n",
      "    3     18 -2.330370218181576e-02 1.3e+00 2.21e-01  2e-01  2e-01 0:00.0\n",
      "    9     54 -6.593705907294557e-02 2.1e+00 1.62e-01  7e-02  2e-01 0:00.1\n"
     ]
    },
    {
     "name": "stderr",
     "output_type": "stream",
     "text": [
      "\n",
      "Evaluate and add point to design: : 1it [00:00,  2.86it/s]"
     ]
    },
    {
     "name": "stdout",
     "output_type": "stream",
     "text": [
      "termination on maxfevals=50 (Tue Nov 15 17:14:15 2022)\n",
      "final/bestever f-value = -6.674885e-02 -6.674885e-02\n",
      "incumbent solution: [0.5742970649321056, 0.997373625235678]\n",
      "std deviation: [0.06894018672148948, 0.15900319160918613]\n"
     ]
    },
    {
     "name": "stderr",
     "output_type": "stream",
     "text": [
      " 46%|████▌     | 23/50 [01:57<01:21,  3.03s/it]"
     ]
    },
    {
     "name": "stdout",
     "output_type": "stream",
     "text": [
      "Iterat #Fevals   function value  axis ratio  sigma  min&max std  t[m:s]\n",
      "    1      6 -4.718058814560955e-02 1.0e+00 3.79e-01  3e-01  5e-01 0:00.0\n",
      "    2     12 -3.635975821345261e-02 1.4e+00 5.43e-01  5e-01  8e-01 0:00.0\n",
      "    3     18 -5.550198777552728e-02 1.6e+00 4.37e-01  4e-01  6e-01 0:00.0\n",
      "    9     54 -4.674924636343925e-02 2.6e+00 1.90e-01  9e-02  2e-01 0:00.1\n"
     ]
    },
    {
     "name": "stderr",
     "output_type": "stream",
     "text": []
    },
    {
     "name": "stdout",
     "output_type": "stream",
     "text": [
      "termination on maxfevals=50 (Tue Nov 15 17:14:17 2022)\n",
      "final/bestever f-value = -3.429024e-02 -5.550199e-02\n",
      "incumbent solution: [0.3793466449913803, 0.997276070757355]\n",
      "std deviation: [0.08912751945310307, 0.23466952027249596]\n"
     ]
    },
    {
     "name": "stderr",
     "output_type": "stream",
     "text": [
      " 48%|████▊     | 24/50 [01:59<01:07,  2.58s/it]"
     ]
    },
    {
     "name": "stdout",
     "output_type": "stream",
     "text": [
      "Iterat #Fevals   function value  axis ratio  sigma  min&max std  t[m:s]\n",
      "    1      6 -3.282135017797638e-02 1.0e+00 2.38e-01  2e-01  2e-01 0:00.0\n",
      "    2     12 -3.425064681142942e-02 1.1e+00 1.98e-01  2e-01  2e-01 0:00.0\n",
      "    3     18 -2.793570343251284e-02 1.2e+00 1.86e-01  1e-01  1e-01 0:00.0\n",
      "    9     54 -3.257738400103261e-02 1.7e+00 1.52e-01  9e-02  1e-01 0:00.1\n"
     ]
    },
    {
     "name": "stderr",
     "output_type": "stream",
     "text": []
    },
    {
     "name": "stdout",
     "output_type": "stream",
     "text": [
      "termination on maxfevals=50 (Tue Nov 15 17:14:19 2022)\n",
      "final/bestever f-value = -2.213835e-02 -3.425065e-02\n",
      "incumbent solution: [0.6070552747522394, 0.6558892642163598]\n",
      "std deviation: [0.12280211927004821, 0.08680414031792079]\n"
     ]
    },
    {
     "name": "stderr",
     "output_type": "stream",
     "text": [
      " 50%|█████     | 25/50 [02:02<01:06,  2.66s/it]"
     ]
    },
    {
     "name": "stdout",
     "output_type": "stream",
     "text": [
      "Iterat #Fevals   function value  axis ratio  sigma  min&max std  t[m:s]\n",
      "    1      6 -2.793737309556676e-02 1.0e+00 2.94e-01  3e-01  3e-01 0:00.0\n",
      "    2     12 -3.711490384430727e-02 1.1e+00 3.35e-01  3e-01  4e-01 0:00.0\n",
      "    3     18 -4.499296340191439e-02 1.5e+00 3.27e-01  3e-01  3e-01 0:00.0\n",
      "    9     54 -4.664110199146843e-02 1.8e+00 1.76e-01  1e-01  1e-01 0:00.1\n"
     ]
    },
    {
     "name": "stderr",
     "output_type": "stream",
     "text": [
      "\n"
     ]
    },
    {
     "name": "stdout",
     "output_type": "stream",
     "text": [
      "termination on maxfevals=50 (Tue Nov 15 17:14:21 2022)\n",
      "final/bestever f-value = -4.427300e-02 -5.855500e-02\n",
      "incumbent solution: [0.07336935727520029, 0.14004249258986287]\n",
      "std deviation: [0.12226898657077136, 0.11971606063170072]\n"
     ]
    },
    {
     "name": "stderr",
     "output_type": "stream",
     "text": [
      " 52%|█████▏    | 26/50 [02:15<02:20,  5.86s/it]"
     ]
    },
    {
     "name": "stdout",
     "output_type": "stream",
     "text": [
      "Iterat #Fevals   function value  axis ratio  sigma  min&max std  t[m:s]\n",
      "    1      6 -3.034222825581279e-02 1.0e+00 3.47e-01  3e-01  4e-01 0:00.0\n",
      "    2     12 -2.825941426973921e-02 1.4e+00 3.45e-01  3e-01  4e-01 0:00.0\n",
      "    3     18 -2.453496080782025e-02 1.4e+00 4.14e-01  3e-01  6e-01 0:00.0\n",
      "    9     54 -4.874368300844933e-02 2.8e+00 3.04e-01  2e-01  4e-01 0:00.1\n"
     ]
    },
    {
     "name": "stderr",
     "output_type": "stream",
     "text": []
    },
    {
     "name": "stdout",
     "output_type": "stream",
     "text": [
      "termination on maxfevals=50 (Tue Nov 15 17:14:34 2022)\n",
      "final/bestever f-value = -1.987802e-02 -4.874368e-02\n",
      "incumbent solution: [0.25610167615269736, 0.9914932442456548]\n",
      "std deviation: [0.3719937997921042, 0.2240636673809145]\n"
     ]
    },
    {
     "name": "stderr",
     "output_type": "stream",
     "text": [
      " 54%|█████▍    | 27/50 [02:17<01:49,  4.75s/it]"
     ]
    },
    {
     "name": "stdout",
     "output_type": "stream",
     "text": [
      "Iterat #Fevals   function value  axis ratio  sigma  min&max std  t[m:s]\n",
      "    1      6 -3.764794834717122e-02 1.0e+00 2.88e-01  3e-01  3e-01 0:00.0\n",
      "    2     12 -3.764571779255409e-02 1.4e+00 3.53e-01  4e-01  4e-01 0:00.0\n",
      "    3     18 -3.279138609658960e-02 1.8e+00 3.86e-01  4e-01  5e-01 0:00.0\n",
      "    9     54 -2.864605538872111e-02 3.5e+00 5.75e-01  7e-01  9e-01 0:00.1\n"
     ]
    },
    {
     "name": "stderr",
     "output_type": "stream",
     "text": []
    },
    {
     "name": "stdout",
     "output_type": "stream",
     "text": [
      "termination on maxfevals=50 (Tue Nov 15 17:14:36 2022)\n",
      "final/bestever f-value = -1.740720e-02 -4.766055e-02\n",
      "incumbent solution: [0.20134781205049768, 0.9464497901447941]\n",
      "std deviation: [0.8998792142064387, 0.7122156261616241]\n"
     ]
    },
    {
     "name": "stderr",
     "output_type": "stream",
     "text": [
      " 56%|█████▌    | 28/50 [02:19<01:22,  3.73s/it]"
     ]
    },
    {
     "name": "stdout",
     "output_type": "stream",
     "text": [
      "Iterat #Fevals   function value  axis ratio  sigma  min&max std  t[m:s]\n",
      "    1      6 -3.201619659775922e-02 1.0e+00 2.74e-01  2e-01  3e-01 0:00.0\n",
      "    2     12 -2.789261664231435e-02 1.2e+00 3.28e-01  3e-01  4e-01 0:00.0\n",
      "    3     18 -2.743422560978359e-02 1.4e+00 3.38e-01  3e-01  4e-01 0:00.0\n",
      "    9     54 -2.892953415996113e-02 1.4e+00 3.36e-01  3e-01  4e-01 0:00.0\n"
     ]
    },
    {
     "name": "stderr",
     "output_type": "stream",
     "text": [
      "\n"
     ]
    },
    {
     "name": "stdout",
     "output_type": "stream",
     "text": [
      "termination on maxfevals=50 (Tue Nov 15 17:14:38 2022)\n",
      "final/bestever f-value = -1.185067e-02 -3.201620e-02\n",
      "incumbent solution: [0.00838595774017665, 0.6245031791740911]\n",
      "std deviation: [0.3586506021788175, 0.27993037940125837]\n"
     ]
    },
    {
     "name": "stderr",
     "output_type": "stream",
     "text": [
      " 58%|█████▊    | 29/50 [02:20<01:04,  3.08s/it]"
     ]
    },
    {
     "name": "stdout",
     "output_type": "stream",
     "text": [
      "Iterat #Fevals   function value  axis ratio  sigma  min&max std  t[m:s]\n",
      "    1      6 -2.717556534872278e-02 1.0e+00 3.36e-01  3e-01  4e-01 0:00.0\n",
      "    2     12 -2.549061655084195e-02 1.4e+00 3.08e-01  3e-01  3e-01 0:00.0\n",
      "    3     18 -2.371456387235071e-02 1.4e+00 2.99e-01  3e-01  3e-01 0:00.0\n",
      "    9     54 -3.210642141147602e-02 2.4e+00 2.71e-01  3e-01  3e-01 0:00.1\n"
     ]
    },
    {
     "name": "stderr",
     "output_type": "stream",
     "text": []
    },
    {
     "name": "stdout",
     "output_type": "stream",
     "text": [
      "termination on maxfevals=50 (Tue Nov 15 17:14:40 2022)\n",
      "final/bestever f-value = -2.160133e-02 -3.210642e-02\n",
      "incumbent solution: [0.22772073657681058, 0.945006687497211]\n",
      "std deviation: [0.2641028688731769, 0.258795569316515]\n"
     ]
    },
    {
     "name": "stderr",
     "output_type": "stream",
     "text": [
      " 60%|██████    | 30/50 [02:22<00:53,  2.69s/it]"
     ]
    },
    {
     "name": "stdout",
     "output_type": "stream",
     "text": [
      "Iterat #Fevals   function value  axis ratio  sigma  min&max std  t[m:s]\n",
      "    1      6 -2.567971340797948e-02 1.0e+00 2.28e-01  2e-01  2e-01 0:00.0\n",
      "    2     12 -2.170072803808187e-02 1.1e+00 2.11e-01  2e-01  2e-01 0:00.0\n",
      "    3     18 -2.731981107290626e-02 1.1e+00 1.47e-01  1e-01  1e-01 0:00.0\n",
      "    9     54 -2.678171310153543e-02 1.7e+00 8.16e-02  3e-02  5e-02 0:00.1\n"
     ]
    },
    {
     "name": "stderr",
     "output_type": "stream",
     "text": []
    },
    {
     "name": "stdout",
     "output_type": "stream",
     "text": [
      "termination on maxfevals=50 (Tue Nov 15 17:14:41 2022)\n",
      "final/bestever f-value = -2.661286e-02 -2.731981e-02\n",
      "incumbent solution: [0.37133528205263244, 0.3692910110745074]\n",
      "std deviation: [0.02954508758132714, 0.05078125552013993]\n"
     ]
    },
    {
     "name": "stderr",
     "output_type": "stream",
     "text": [
      " 62%|██████▏   | 31/50 [02:30<01:22,  4.32s/it]"
     ]
    },
    {
     "name": "stdout",
     "output_type": "stream",
     "text": [
      "Iterat #Fevals   function value  axis ratio  sigma  min&max std  t[m:s]\n",
      "    1      6 -3.223953794101431e-02 1.0e+00 2.99e-01  3e-01  3e-01 0:00.0\n",
      "    2     12 -2.201152903265579e-02 1.2e+00 2.79e-01  2e-01  3e-01 0:00.0\n",
      "    3     18 -1.885088844347527e-02 1.5e+00 2.18e-01  2e-01  3e-01 0:00.0\n",
      "    9     54 -2.863892560883486e-02 1.7e+00 1.55e-01  7e-02  1e-01 0:00.1\n"
     ]
    },
    {
     "name": "stderr",
     "output_type": "stream",
     "text": []
    },
    {
     "name": "stdout",
     "output_type": "stream",
     "text": [
      "termination on maxfevals=50 (Tue Nov 15 17:14:50 2022)\n",
      "final/bestever f-value = -1.301188e-02 -3.223954e-02\n",
      "incumbent solution: [0.23801157076368312, 0.6199724285612466]\n",
      "std deviation: [0.14333919653536134, 0.07338997535482933]\n"
     ]
    },
    {
     "name": "stderr",
     "output_type": "stream",
     "text": [
      " 64%|██████▍   | 32/50 [02:33<01:07,  3.73s/it]"
     ]
    },
    {
     "name": "stdout",
     "output_type": "stream",
     "text": [
      "Iterat #Fevals   function value  axis ratio  sigma  min&max std  t[m:s]\n",
      "    1      6 -2.056154671955768e-02 1.0e+00 2.70e-01  2e-01  3e-01 0:00.0\n",
      "    2     12 -2.090230515826053e-02 1.1e+00 3.00e-01  3e-01  3e-01 0:00.0\n",
      "    3     18 -1.296665857599166e-02 1.4e+00 2.68e-01  2e-01  3e-01 0:00.0\n",
      "    9     54 -3.643117857387156e-02 1.7e+00 4.84e-01  3e-01  5e-01 0:00.1\n"
     ]
    },
    {
     "name": "stderr",
     "output_type": "stream",
     "text": []
    },
    {
     "name": "stdout",
     "output_type": "stream",
     "text": [
      "termination on maxfevals=50 (Tue Nov 15 17:14:52 2022)\n",
      "final/bestever f-value = -3.063833e-02 -3.643118e-02\n",
      "incumbent solution: [0.8558379647766254, 0.9518962396760913]\n",
      "std deviation: [0.34875551428164286, 0.5151639251590647]\n"
     ]
    },
    {
     "name": "stderr",
     "output_type": "stream",
     "text": [
      " 66%|██████▌   | 33/50 [02:33<00:49,  2.88s/it]"
     ]
    },
    {
     "name": "stdout",
     "output_type": "stream",
     "text": [
      "Iterat #Fevals   function value  axis ratio  sigma  min&max std  t[m:s]\n",
      "    1      6 -1.500924351104649e-02 1.0e+00 2.56e-01  2e-01  2e-01 0:00.0\n",
      "    2     12 -2.508245395988817e-02 1.0e+00 3.29e-01  3e-01  4e-01 0:00.0\n",
      "    3     18 -1.921451394265516e-02 1.3e+00 4.03e-01  4e-01  5e-01 0:00.0\n",
      "    9     54 -1.556786949014821e-02 2.6e+00 3.90e-01  3e-01  6e-01 0:00.0\n"
     ]
    },
    {
     "name": "stderr",
     "output_type": "stream",
     "text": []
    },
    {
     "name": "stdout",
     "output_type": "stream",
     "text": [
      "termination on maxfevals=50 (Tue Nov 15 17:14:53 2022)\n",
      "final/bestever f-value = -1.077551e-02 -2.747229e-02\n",
      "incumbent solution: [0.7951309993451063, 0.9298066931946247]\n",
      "std deviation: [0.5646887369181839, 0.326570013955268]\n"
     ]
    },
    {
     "name": "stderr",
     "output_type": "stream",
     "text": [
      " 68%|██████▊   | 34/50 [02:35<00:38,  2.43s/it]"
     ]
    },
    {
     "name": "stdout",
     "output_type": "stream",
     "text": [
      "Iterat #Fevals   function value  axis ratio  sigma  min&max std  t[m:s]\n",
      "    1      6 -2.056166592437747e-02 1.0e+00 3.76e-01  3e-01  5e-01 0:00.0\n",
      "    2     12 -1.799048818517989e-02 1.6e+00 3.49e-01  3e-01  4e-01 0:00.0\n",
      "    3     18 -1.213876883505738e-02 1.6e+00 3.70e-01  4e-01  4e-01 0:00.0\n",
      "    9     54 -1.395430413210397e-02 1.9e+00 6.82e-01  6e-01  8e-01 0:00.1\n"
     ]
    },
    {
     "name": "stderr",
     "output_type": "stream",
     "text": []
    },
    {
     "name": "stdout",
     "output_type": "stream",
     "text": [
      "termination on maxfevals=50 (Tue Nov 15 17:14:54 2022)\n",
      "final/bestever f-value = -1.178506e-02 -2.383234e-02\n",
      "incumbent solution: [0.4899675323987308, 0.7059228313015581]\n",
      "std deviation: [0.6245967729525406, 0.757829340382218]\n"
     ]
    },
    {
     "name": "stderr",
     "output_type": "stream",
     "text": [
      " 70%|███████   | 35/50 [02:36<00:32,  2.20s/it]"
     ]
    },
    {
     "name": "stdout",
     "output_type": "stream",
     "text": [
      "Iterat #Fevals   function value  axis ratio  sigma  min&max std  t[m:s]\n",
      "    1      6 -1.414570673120652e-02 1.0e+00 2.73e-01  3e-01  3e-01 0:00.0\n",
      "    2     12 -1.822363229742807e-02 1.2e+00 3.38e-01  4e-01  4e-01 0:00.0\n",
      "    3     18 -2.301102886250683e-02 1.8e+00 3.61e-01  4e-01  4e-01 0:00.0\n",
      "    9     54 -2.246490725168360e-02 3.1e+00 7.90e-01  8e-01  2e+00 0:00.1\n"
     ]
    },
    {
     "name": "stderr",
     "output_type": "stream",
     "text": []
    },
    {
     "name": "stdout",
     "output_type": "stream",
     "text": [
      "termination on maxfevals=50 (Tue Nov 15 17:14:56 2022)\n",
      "final/bestever f-value = -4.734731e-03 -2.883952e-02\n",
      "incumbent solution: [0.00036317708354269523, 0.6397963283281376]\n",
      "std deviation: [0.8269989070320656, 1.506285747859585]\n"
     ]
    },
    {
     "name": "stderr",
     "output_type": "stream",
     "text": [
      " 72%|███████▏  | 36/50 [02:42<00:42,  3.06s/it]"
     ]
    },
    {
     "name": "stdout",
     "output_type": "stream",
     "text": [
      "Iterat #Fevals   function value  axis ratio  sigma  min&max std  t[m:s]\n",
      "    1      6 -1.049270013584946e-02 1.0e+00 2.52e-01  2e-01  2e-01 0:00.0\n",
      "    2     12 -2.026030579062066e-02 1.1e+00 2.37e-01  2e-01  2e-01 0:00.0\n",
      "    3     18 -2.461164316415210e-02 1.2e+00 3.39e-01  3e-01  4e-01 0:00.0\n",
      "    9     54 -2.330902440576011e-02 2.5e+00 3.24e-01  2e-01  4e-01 0:00.1\n"
     ]
    },
    {
     "name": "stderr",
     "output_type": "stream",
     "text": []
    },
    {
     "name": "stdout",
     "output_type": "stream",
     "text": [
      "termination on maxfevals=50 (Tue Nov 15 17:15:01 2022)\n",
      "final/bestever f-value = -1.174454e-02 -2.461164e-02\n",
      "incumbent solution: [0.9311550783591864, 0.656827139659552]\n",
      "std deviation: [0.1675734868927531, 0.4156552799242432]\n"
     ]
    },
    {
     "name": "stderr",
     "output_type": "stream",
     "text": [
      " 74%|███████▍  | 37/50 [02:50<01:02,  4.77s/it]"
     ]
    },
    {
     "name": "stdout",
     "output_type": "stream",
     "text": [
      "Iterat #Fevals   function value  axis ratio  sigma  min&max std  t[m:s]\n",
      "    1      6 -1.938516521111289e-02 1.0e+00 3.56e-01  4e-01  4e-01 0:00.0\n",
      "    2     12 -2.078811481944576e-02 1.3e+00 3.50e-01  3e-01  4e-01 0:00.0\n",
      "    3     18 -1.927247442759428e-02 1.6e+00 3.80e-01  3e-01  4e-01 0:00.0\n",
      "    9     54 -2.019233892924244e-02 1.8e+00 6.08e-01  5e-01  5e-01 0:00.1\n"
     ]
    },
    {
     "name": "stderr",
     "output_type": "stream",
     "text": []
    },
    {
     "name": "stdout",
     "output_type": "stream",
     "text": [
      "termination on maxfevals=50 (Tue Nov 15 17:15:10 2022)\n",
      "final/bestever f-value = -4.668385e-03 -2.543179e-02\n",
      "incumbent solution: [0.9466024936256895, 0.6089257763565294]\n",
      "std deviation: [0.5471015739346397, 0.5231076916100684]\n"
     ]
    },
    {
     "name": "stderr",
     "output_type": "stream",
     "text": [
      " 76%|███████▌  | 38/50 [02:52<00:46,  3.90s/it]"
     ]
    },
    {
     "name": "stdout",
     "output_type": "stream",
     "text": [
      "Iterat #Fevals   function value  axis ratio  sigma  min&max std  t[m:s]\n",
      "    1      6 -1.584795830334306e-02 1.0e+00 3.76e-01  4e-01  5e-01 0:00.0\n",
      "    2     12 -5.552300759184670e-03 1.7e+00 4.22e-01  4e-01  5e-01 0:00.0\n",
      "    3     18 -1.549197755271192e-02 1.3e+00 4.57e-01  5e-01  6e-01 0:00.1\n",
      "    9     54 -1.821800453536749e-02 1.3e+00 5.07e-01  4e-01  5e-01 0:00.1\n"
     ]
    },
    {
     "name": "stderr",
     "output_type": "stream",
     "text": []
    },
    {
     "name": "stdout",
     "output_type": "stream",
     "text": [
      "termination on maxfevals=50 (Tue Nov 15 17:15:12 2022)\n",
      "final/bestever f-value = -1.451058e-03 -2.320729e-02\n",
      "incumbent solution: [0.9338141461906965, 0.026932958143989588]\n",
      "std deviation: [0.4285373002261977, 0.5303576445845838]\n"
     ]
    },
    {
     "name": "stderr",
     "output_type": "stream",
     "text": [
      " 78%|███████▊  | 39/50 [02:55<00:39,  3.58s/it]"
     ]
    },
    {
     "name": "stdout",
     "output_type": "stream",
     "text": [
      "Iterat #Fevals   function value  axis ratio  sigma  min&max std  t[m:s]\n",
      "    1      6 -1.381382718144353e-02 1.0e+00 2.27e-01  2e-01  2e-01 0:00.0\n",
      "    2     12 -1.582566882571634e-02 1.1e+00 1.98e-01  2e-01  2e-01 0:00.0\n",
      "    3     18 -1.329444371308730e-02 1.0e+00 2.27e-01  2e-01  2e-01 0:00.0\n",
      "    9     54 -1.715451225855047e-02 1.3e+00 1.71e-01  1e-01  1e-01 0:00.1\n"
     ]
    },
    {
     "name": "stderr",
     "output_type": "stream",
     "text": []
    },
    {
     "name": "stdout",
     "output_type": "stream",
     "text": [
      "termination on maxfevals=50 (Tue Nov 15 17:15:14 2022)\n",
      "final/bestever f-value = -1.732225e-02 -1.917685e-02\n",
      "incumbent solution: [0.9999762552006292, 0.5926067710552168]\n",
      "std deviation: [0.10565903157671981, 0.09815019485491445]\n"
     ]
    },
    {
     "name": "stderr",
     "output_type": "stream",
     "text": [
      " 80%|████████  | 40/50 [02:57<00:30,  3.02s/it]"
     ]
    },
    {
     "name": "stdout",
     "output_type": "stream",
     "text": [
      "Iterat #Fevals   function value  axis ratio  sigma  min&max std  t[m:s]\n",
      "    1      6 -8.859695500486264e-03 1.0e+00 2.69e-01  2e-01  3e-01 0:00.0\n",
      "    2     12 -1.406092238686851e-02 1.2e+00 3.27e-01  3e-01  4e-01 0:00.0\n",
      "    3     18 -1.485894731930593e-02 1.4e+00 2.81e-01  2e-01  3e-01 0:00.0\n",
      "    9     54 -1.730467706081229e-02 2.1e+00 2.84e-01  2e-01  4e-01 0:00.1\n"
     ]
    },
    {
     "name": "stderr",
     "output_type": "stream",
     "text": []
    },
    {
     "name": "stdout",
     "output_type": "stream",
     "text": [
      "termination on maxfevals=50 (Tue Nov 15 17:15:16 2022)\n",
      "final/bestever f-value = -2.012674e-02 -2.012674e-02\n",
      "incumbent solution: [0.6804646923433035, 0.3359669654191587]\n",
      "std deviation: [0.15000389254326002, 0.37079705090787]\n"
     ]
    },
    {
     "name": "stderr",
     "output_type": "stream",
     "text": [
      " 82%|████████▏ | 41/50 [03:17<01:13,  8.12s/it]"
     ]
    },
    {
     "name": "stdout",
     "output_type": "stream",
     "text": [
      "Iterat #Fevals   function value  axis ratio  sigma  min&max std  t[m:s]\n",
      "    1      6 -1.353105979472180e-02 1.0e+00 2.92e-01  3e-01  3e-01 0:00.0\n",
      "    2     12 -1.668853615172561e-02 1.3e+00 2.74e-01  2e-01  3e-01 0:00.0\n",
      "    3     18 -1.935248735837470e-02 1.4e+00 2.52e-01  2e-01  2e-01 0:00.1\n",
      "    9     54 -2.197000562852613e-02 1.9e+00 2.17e-01  2e-01  2e-01 0:00.2\n"
     ]
    },
    {
     "name": "stderr",
     "output_type": "stream",
     "text": []
    },
    {
     "name": "stdout",
     "output_type": "stream",
     "text": [
      "termination on maxfevals=50 (Tue Nov 15 17:15:37 2022)\n",
      "final/bestever f-value = -6.523277e-03 -2.197001e-02\n",
      "incumbent solution: [0.0016981795458585478, 0.20797513512319632]\n",
      "std deviation: [0.1651961886771581, 0.17967580214473902]\n"
     ]
    },
    {
     "name": "stderr",
     "output_type": "stream",
     "text": [
      " 84%|████████▍ | 42/50 [03:20<00:53,  6.64s/it]"
     ]
    },
    {
     "name": "stdout",
     "output_type": "stream",
     "text": [
      "Iterat #Fevals   function value  axis ratio  sigma  min&max std  t[m:s]\n",
      "    1      6 -9.274250885232149e-03 1.0e+00 2.43e-01  2e-01  2e-01 0:00.0\n",
      "    2     12 -1.569754640122645e-02 1.2e+00 2.33e-01  2e-01  2e-01 0:00.0\n",
      "    3     18 -1.258455156945715e-02 1.3e+00 2.39e-01  2e-01  2e-01 0:00.1\n",
      "    9     54 -1.005384774167173e-02 1.8e+00 1.07e-01  5e-02  6e-02 0:00.1\n"
     ]
    },
    {
     "name": "stderr",
     "output_type": "stream",
     "text": []
    },
    {
     "name": "stdout",
     "output_type": "stream",
     "text": [
      "termination on maxfevals=50 (Tue Nov 15 17:15:39 2022)\n",
      "final/bestever f-value = -1.084456e-02 -1.569755e-02\n",
      "incumbent solution: [0.1422343404682035, 0.2701966186086659]\n",
      "std deviation: [0.061468007732314145, 0.051869685866130985]\n"
     ]
    },
    {
     "name": "stderr",
     "output_type": "stream",
     "text": [
      " 86%|████████▌ | 43/50 [03:28<00:50,  7.18s/it]"
     ]
    },
    {
     "name": "stdout",
     "output_type": "stream",
     "text": [
      "Iterat #Fevals   function value  axis ratio  sigma  min&max std  t[m:s]\n",
      "    1      6 -1.490092039960622e-02 1.0e+00 3.20e-01  3e-01  4e-01 0:00.0\n",
      "    2     12 -7.811563392007947e-03 1.3e+00 3.08e-01  3e-01  3e-01 0:00.0\n",
      "    3     18 -1.083784626914297e-02 1.4e+00 4.40e-01  4e-01  7e-01 0:00.0\n",
      "    9     54 -1.439331335419269e-02 2.9e+00 1.71e-01  8e-02  2e-01 0:00.2\n"
     ]
    },
    {
     "name": "stderr",
     "output_type": "stream",
     "text": []
    },
    {
     "name": "stdout",
     "output_type": "stream",
     "text": [
      "termination on maxfevals=50 (Tue Nov 15 17:15:48 2022)\n",
      "final/bestever f-value = -6.265460e-03 -1.709176e-02\n",
      "incumbent solution: [0.2925739054569768, 0.002288973724684082]\n",
      "std deviation: [0.08399165317715655, 0.1974436778019223]\n"
     ]
    },
    {
     "name": "stderr",
     "output_type": "stream",
     "text": [
      " 88%|████████▊ | 44/50 [03:31<00:35,  5.90s/it]"
     ]
    },
    {
     "name": "stdout",
     "output_type": "stream",
     "text": [
      "Iterat #Fevals   function value  axis ratio  sigma  min&max std  t[m:s]\n",
      "    1      6 -9.854584404261679e-03 1.0e+00 2.50e-01  2e-01  2e-01 0:00.0\n",
      "    2     12 -6.551228297352330e-03 1.1e+00 2.27e-01  2e-01  2e-01 0:00.0\n",
      "    3     18 -1.120425072346132e-02 1.4e+00 2.16e-01  2e-01  2e-01 0:00.0\n",
      "    9     54 -1.162954131927107e-02 1.6e+00 1.51e-01  9e-02  1e-01 0:00.1\n"
     ]
    },
    {
     "name": "stderr",
     "output_type": "stream",
     "text": []
    },
    {
     "name": "stdout",
     "output_type": "stream",
     "text": [
      "termination on maxfevals=50 (Tue Nov 15 17:15:51 2022)\n",
      "final/bestever f-value = -1.140800e-02 -1.603828e-02\n",
      "incumbent solution: [0.8078938984418067, 0.16963111875555972]\n",
      "std deviation: [0.08909167285123994, 0.1003588144918771]\n"
     ]
    },
    {
     "name": "stderr",
     "output_type": "stream",
     "text": [
      " 90%|█████████ | 45/50 [03:35<00:25,  5.17s/it]"
     ]
    },
    {
     "name": "stdout",
     "output_type": "stream",
     "text": [
      "Iterat #Fevals   function value  axis ratio  sigma  min&max std  t[m:s]\n",
      "    1      6 -6.169990059501140e-03 1.0e+00 2.51e-01  2e-01  2e-01 0:00.0\n",
      "    2     12 -7.408615650264737e-03 1.2e+00 2.12e-01  2e-01  2e-01 0:00.0\n",
      "    3     18 -4.527701150269348e-03 1.1e+00 1.93e-01  1e-01  2e-01 0:00.0\n",
      "    9     54 -1.105743472293419e-02 2.4e+00 1.53e-01  8e-02  1e-01 0:00.1\n"
     ]
    },
    {
     "name": "stderr",
     "output_type": "stream",
     "text": []
    },
    {
     "name": "stdout",
     "output_type": "stream",
     "text": [
      "termination on maxfevals=50 (Tue Nov 15 17:15:54 2022)\n",
      "final/bestever f-value = -4.760368e-03 -1.187605e-02\n",
      "incumbent solution: [0.46516823119931283, 0.6237288951503285]\n",
      "std deviation: [0.07711736092948694, 0.11989667508691329]\n"
     ]
    },
    {
     "name": "stderr",
     "output_type": "stream",
     "text": [
      " 92%|█████████▏| 46/50 [03:47<00:29,  7.26s/it]"
     ]
    },
    {
     "name": "stdout",
     "output_type": "stream",
     "text": [
      "Iterat #Fevals   function value  axis ratio  sigma  min&max std  t[m:s]\n",
      "    1      6 -1.124079503076025e-02 1.0e+00 2.95e-01  2e-01  3e-01 0:00.0\n",
      "    2     12 -6.602995131713919e-03 1.3e+00 2.70e-01  2e-01  3e-01 0:00.0\n",
      "    3     18 -1.199074993601157e-02 1.5e+00 3.20e-01  3e-01  4e-01 0:00.0\n",
      "    9     54 -1.519926010871786e-02 1.6e+00 1.86e-01  9e-02  1e-01 0:00.1\n"
     ]
    },
    {
     "name": "stderr",
     "output_type": "stream",
     "text": []
    },
    {
     "name": "stdout",
     "output_type": "stream",
     "text": [
      "termination on maxfevals=50 (Tue Nov 15 17:16:06 2022)\n",
      "final/bestever f-value = -1.766512e-02 -1.766512e-02\n",
      "incumbent solution: [0.9241167231425493, 0.764339124794239]\n",
      "std deviation: [0.14033054527793065, 0.08512992664758715]\n"
     ]
    },
    {
     "name": "stderr",
     "output_type": "stream",
     "text": [
      " 94%|█████████▍| 47/50 [03:59<00:26,  8.86s/it]"
     ]
    },
    {
     "name": "stdout",
     "output_type": "stream",
     "text": [
      "Iterat #Fevals   function value  axis ratio  sigma  min&max std  t[m:s]\n",
      "    1      6 -5.768073996049949e-03 1.0e+00 3.64e-01  4e-01  5e-01 0:00.0\n",
      "    2     12 -9.502841518243097e-03 1.3e+00 4.79e-01  6e-01  6e-01 0:00.0\n",
      "    3     18 -7.239803501375763e-03 1.4e+00 4.29e-01  5e-01  5e-01 0:00.0\n",
      "    9     54 -9.721531759581568e-03 2.0e+00 5.22e-01  5e-01  5e-01 0:00.1\n"
     ]
    },
    {
     "name": "stderr",
     "output_type": "stream",
     "text": []
    },
    {
     "name": "stdout",
     "output_type": "stream",
     "text": [
      "termination on maxfevals=50 (Tue Nov 15 17:16:19 2022)\n",
      "final/bestever f-value = -5.992161e-03 -1.252480e-02\n",
      "incumbent solution: [0.8873682612587731, 0.6133306972362715]\n",
      "std deviation: [0.5377364970517636, 0.5439217104307112]\n"
     ]
    },
    {
     "name": "stderr",
     "output_type": "stream",
     "text": [
      " 96%|█████████▌| 48/50 [04:07<00:17,  8.54s/it]"
     ]
    },
    {
     "name": "stdout",
     "output_type": "stream",
     "text": [
      "Iterat #Fevals   function value  axis ratio  sigma  min&max std  t[m:s]\n",
      "    1      6 -8.543334913248655e-03 1.0e+00 2.81e-01  3e-01  3e-01 0:00.0\n",
      "    2     12 -9.662188796266236e-03 1.3e+00 3.50e-01  3e-01  4e-01 0:00.0\n",
      "    3     18 -6.786448373919286e-03 1.6e+00 4.28e-01  5e-01  5e-01 0:00.1\n",
      "    9     54 -8.936860784069854e-03 1.1e+00 3.19e-01  3e-01  3e-01 0:00.1\n"
     ]
    },
    {
     "name": "stderr",
     "output_type": "stream",
     "text": []
    },
    {
     "name": "stdout",
     "output_type": "stream",
     "text": [
      "termination on maxfevals=50 (Tue Nov 15 17:16:27 2022)\n",
      "final/bestever f-value = -6.363643e-03 -1.096720e-02\n",
      "incumbent solution: [0.24037532183626298, 0.7598672290227164]\n",
      "std deviation: [0.25459968837811253, 0.2852441647014598]\n"
     ]
    },
    {
     "name": "stderr",
     "output_type": "stream",
     "text": [
      " 98%|█████████▊| 49/50 [04:12<00:07,  7.42s/it]"
     ]
    },
    {
     "name": "stdout",
     "output_type": "stream",
     "text": [
      "Iterat #Fevals   function value  axis ratio  sigma  min&max std  t[m:s]\n",
      "    1      6 -8.452293379442087e-03 1.0e+00 2.59e-01  2e-01  2e-01 0:00.0\n",
      "    2     12 -7.201220285770304e-03 1.1e+00 2.94e-01  3e-01  4e-01 0:00.0\n",
      "    3     18 -9.966662216965960e-03 1.5e+00 2.46e-01  2e-01  3e-01 0:00.0\n",
      "    9     54 -6.015439750600704e-03 1.4e+00 1.79e-01  1e-01  1e-01 0:00.1\n"
     ]
    },
    {
     "name": "stderr",
     "output_type": "stream",
     "text": []
    },
    {
     "name": "stdout",
     "output_type": "stream",
     "text": [
      "termination on maxfevals=50 (Tue Nov 15 17:16:31 2022)\n",
      "final/bestever f-value = -8.510299e-03 -9.966662e-03\n",
      "incumbent solution: [0.09197537125861563, 0.5665726751640409]\n",
      "std deviation: [0.14958399370537137, 0.10627286329606203]\n"
     ]
    },
    {
     "name": "stderr",
     "output_type": "stream",
     "text": [
      "100%|██████████| 50/50 [04:13<00:00,  5.08s/it]\n",
      "  0%|          | 0/20 [00:00<?, ?it/s]"
     ]
    },
    {
     "name": "stdout",
     "output_type": "stream",
     "text": [
      "Iterat #Fevals   function value  axis ratio  sigma  min&max std  t[m:s]\n",
      "    1      6 9.178918369162317e-02 1.0e+00 2.85e-01  3e-01  3e-01 2:24.2\n"
     ]
    },
    {
     "name": "stderr",
     "output_type": "stream",
     "text": [
      "  0%|          | 0/20 [03:11<?, ?it/s]\n"
     ]
    },
    {
     "ename": "KeyboardInterrupt",
     "evalue": "",
     "output_type": "error",
     "traceback": [
      "\u001b[0;31m---------------------------------------------------------------------------\u001b[0m",
      "\u001b[0;31mKeyboardInterrupt\u001b[0m                         Traceback (most recent call last)",
      "Cell \u001b[0;32mIn [30], line 105\u001b[0m\n\u001b[1;32m     95\u001b[0m aIMSE_delta\u001b[39m.\u001b[39mset_criterion(\n\u001b[1;32m     96\u001b[0m     augmented_IMSE_Delta,\n\u001b[1;32m     97\u001b[0m     maxi\u001b[39m=\u001b[39m\u001b[39mFalse\u001b[39;00m,\n\u001b[0;32m   (...)\u001b[0m\n\u001b[1;32m    101\u001b[0m     beta\u001b[39m=\u001b[39m\u001b[39m0.0\u001b[39m,\n\u001b[1;32m    102\u001b[0m )  \u001b[39m#\u001b[39;00m\n\u001b[1;32m    104\u001b[0m branin_aIMSE_delta\u001b[39m.\u001b[39mset_enrichment(aIMSE_delta)\n\u001b[0;32m--> 105\u001b[0m run_diag \u001b[39m=\u001b[39m branin_aIMSE_delta\u001b[39m.\u001b[39;49mrun(\n\u001b[1;32m    106\u001b[0m     Niter\u001b[39m=\u001b[39;49m\u001b[39m20\u001b[39;49m, callback\u001b[39m=\u001b[39;49mpartial(callback, filename\u001b[39m=\u001b[39;49mfname(\u001b[39m\"\u001b[39;49m\u001b[39maIMSE_delta\u001b[39;49m\u001b[39m\"\u001b[39;49m))\n\u001b[1;32m    107\u001b[0m )\n\u001b[1;32m    108\u001b[0m imse_aIMSE_delta, imse_del_aIMSE_delta \u001b[39m=\u001b[39m \u001b[39mlist\u001b[39m(\u001b[39mzip\u001b[39m(\u001b[39m*\u001b[39mrun_diag))\n\u001b[1;32m    109\u001b[0m aIMSE_delta_dict \u001b[39m=\u001b[39m {\n\u001b[1;32m    110\u001b[0m     \u001b[39m\"\u001b[39m\u001b[39mmodel\u001b[39m\u001b[39m\"\u001b[39m: branin_aIMSE_delta,\n\u001b[1;32m    111\u001b[0m     \u001b[39m\"\u001b[39m\u001b[39mlogs\u001b[39m\u001b[39m\"\u001b[39m: {\u001b[39m\"\u001b[39m\u001b[39mimse\u001b[39m\u001b[39m\"\u001b[39m: imse_aIMSE_delta, \u001b[39m\"\u001b[39m\u001b[39mimse_del\u001b[39m\u001b[39m\"\u001b[39m: imse_del_aIMSE_delta},\n\u001b[1;32m    112\u001b[0m }\n",
      "File \u001b[0;32m~/robustGP/robustGP/SURmodel.py:176\u001b[0m, in \u001b[0;36mAdaptiveStrategy.run\u001b[0;34m(self, Niter, callback)\u001b[0m\n\u001b[1;32m    174\u001b[0m \u001b[39mwith\u001b[39;00m tqdm(leave\u001b[39m=\u001b[39m\u001b[39mFalse\u001b[39;00m) \u001b[39mas\u001b[39;00m pbar:\n\u001b[1;32m    175\u001b[0m     pbar\u001b[39m.\u001b[39mset_description(\u001b[39m\"\u001b[39m\u001b[39mAcquisition\u001b[39m\u001b[39m\"\u001b[39m)\n\u001b[0;32m--> 176\u001b[0m     acq \u001b[39m=\u001b[39m \u001b[39mself\u001b[39;49m\u001b[39m.\u001b[39;49menrichment\u001b[39m.\u001b[39;49mrun(\u001b[39mself\u001b[39;49m)\n\u001b[1;32m    177\u001b[0m     pts \u001b[39m=\u001b[39m acq[\u001b[39m0\u001b[39m]\n\u001b[1;32m    178\u001b[0m     pbar\u001b[39m.\u001b[39mupdate(\u001b[39m1\u001b[39m)\n",
      "File \u001b[0;32m~/robustGP/robustGP/enrichment/Enrichment.py:65\u001b[0m, in \u001b[0;36mOneStepEnrichment.run\u001b[0;34m(self, gp)\u001b[0m\n\u001b[1;32m     64\u001b[0m \u001b[39mdef\u001b[39;00m \u001b[39mrun\u001b[39m(\u001b[39mself\u001b[39m, gp):\n\u001b[0;32m---> 65\u001b[0m     \u001b[39mreturn\u001b[39;00m \u001b[39mself\u001b[39;49m\u001b[39m.\u001b[39;49moptimiser(\u001b[39mlambda\u001b[39;49;00m X: \u001b[39mself\u001b[39;49m\u001b[39m.\u001b[39;49mcriterion(gp, np\u001b[39m.\u001b[39;49matleast_2d(X)))\n",
      "File \u001b[0;32m~/robustGP/robustGP/enrichment/Enrichment.py:56\u001b[0m, in \u001b[0;36mOneStepEnrichment.set_optim.<locals>.<lambda>\u001b[0;34m(cr)\u001b[0m\n\u001b[1;32m     52\u001b[0m     \u001b[39mself\u001b[39m\u001b[39m.\u001b[39moptimiser \u001b[39m=\u001b[39m \u001b[39mlambda\u001b[39;00m cr: opt\u001b[39m.\u001b[39moptimize_with_restart(\n\u001b[1;32m     53\u001b[0m         cr, \u001b[39mself\u001b[39m\u001b[39m.\u001b[39mbounds, \u001b[39m*\u001b[39m\u001b[39m*\u001b[39mparams\n\u001b[1;32m     54\u001b[0m     )\n\u001b[1;32m     55\u001b[0m \u001b[39melse\u001b[39;00m:\n\u001b[0;32m---> 56\u001b[0m     \u001b[39mself\u001b[39m\u001b[39m.\u001b[39moptimiser \u001b[39m=\u001b[39m \u001b[39mlambda\u001b[39;00m cr: optimiser(cr, \u001b[39m*\u001b[39;49m\u001b[39m*\u001b[39;49mparams)\n",
      "File \u001b[0;32m~/robustGP/.venvrobustGP/lib/python3.8/site-packages/cma/evolution_strategy.py:4047\u001b[0m, in \u001b[0;36mfmin2\u001b[0;34m(objective_function, x0, sigma0, options, args, gradf, restarts, restart_from_best, incpopsize, eval_initial_x, parallel_objective, noise_handler, noise_change_sigma_exponent, noise_kappa_exponent, bipop, callback)\u001b[0m\n\u001b[1;32m   3999\u001b[0m \u001b[39mdef\u001b[39;00m \u001b[39mfmin2\u001b[39m(objective_function, x0, sigma0,\n\u001b[1;32m   4000\u001b[0m          options\u001b[39m=\u001b[39m\u001b[39mNone\u001b[39;00m,\n\u001b[1;32m   4001\u001b[0m          args\u001b[39m=\u001b[39m(),\n\u001b[0;32m   (...)\u001b[0m\n\u001b[1;32m   4011\u001b[0m          bipop\u001b[39m=\u001b[39m\u001b[39mFalse\u001b[39;00m,\n\u001b[1;32m   4012\u001b[0m          callback\u001b[39m=\u001b[39m\u001b[39mNone\u001b[39;00m):\n\u001b[1;32m   4013\u001b[0m     \u001b[39m\"\"\"wrapper around `cma.fmin` returning the tuple ``(xbest, es)``,\u001b[39;00m\n\u001b[1;32m   4014\u001b[0m \n\u001b[1;32m   4015\u001b[0m \u001b[39m    and with the same in input arguments as `fmin`. Hence a typical\u001b[39;00m\n\u001b[0;32m   (...)\u001b[0m\n\u001b[1;32m   4045\u001b[0m \n\u001b[1;32m   4046\u001b[0m \u001b[39m    \"\"\"\u001b[39;00m\n\u001b[0;32m-> 4047\u001b[0m     res \u001b[39m=\u001b[39m fmin(objective_function, x0, sigma0,\n\u001b[1;32m   4048\u001b[0m          options,\n\u001b[1;32m   4049\u001b[0m          args,\n\u001b[1;32m   4050\u001b[0m          gradf,\n\u001b[1;32m   4051\u001b[0m          restarts,\n\u001b[1;32m   4052\u001b[0m          restart_from_best,\n\u001b[1;32m   4053\u001b[0m          incpopsize,\n\u001b[1;32m   4054\u001b[0m          eval_initial_x,\n\u001b[1;32m   4055\u001b[0m          parallel_objective,\n\u001b[1;32m   4056\u001b[0m          noise_handler,\n\u001b[1;32m   4057\u001b[0m          noise_change_sigma_exponent,\n\u001b[1;32m   4058\u001b[0m          noise_kappa_exponent,\n\u001b[1;32m   4059\u001b[0m          bipop,\n\u001b[1;32m   4060\u001b[0m          callback)\n\u001b[1;32m   4061\u001b[0m     \u001b[39mreturn\u001b[39;00m res[\u001b[39m0\u001b[39m], res[\u001b[39m-\u001b[39m\u001b[39m2\u001b[39m]\n",
      "File \u001b[0;32m~/robustGP/.venvrobustGP/lib/python3.8/site-packages/cma/evolution_strategy.py:4465\u001b[0m, in \u001b[0;36mfmin\u001b[0;34m(objective_function, x0, sigma0, options, args, gradf, restarts, restart_from_best, incpopsize, eval_initial_x, parallel_objective, noise_handler, noise_change_sigma_exponent, noise_kappa_exponent, bipop, callback)\u001b[0m\n\u001b[1;32m   4462\u001b[0m \u001b[39mif\u001b[39;00m \u001b[39m1\u001b[39m \u001b[39m<\u001b[39m \u001b[39m3\u001b[39m:\n\u001b[1;32m   4463\u001b[0m     \u001b[39mwhile\u001b[39;00m \u001b[39mnot\u001b[39;00m es\u001b[39m.\u001b[39mstop():  \u001b[39m# iteration loop\u001b[39;00m\n\u001b[1;32m   4464\u001b[0m         \u001b[39m# X, fit = eval_in_parallel(lambda: es.ask(1)[0], es.popsize, args, repetitions=noisehandler.evaluations-1)\u001b[39;00m\n\u001b[0;32m-> 4465\u001b[0m         X, fit \u001b[39m=\u001b[39m es\u001b[39m.\u001b[39;49mask_and_eval(parallel_objective \u001b[39mor\u001b[39;49;00m objective_function,\n\u001b[1;32m   4466\u001b[0m                                  args, gradf\u001b[39m=\u001b[39;49mgradf,\n\u001b[1;32m   4467\u001b[0m                                  evaluations\u001b[39m=\u001b[39;49mnoisehandler\u001b[39m.\u001b[39;49mevaluations,\n\u001b[1;32m   4468\u001b[0m                                  aggregation\u001b[39m=\u001b[39;49mnp\u001b[39m.\u001b[39;49mmedian,\n\u001b[1;32m   4469\u001b[0m                                  parallel_mode\u001b[39m=\u001b[39;49mparallel_objective)  \u001b[39m# treats NaN with resampling if not parallel_mode\u001b[39;00m\n\u001b[1;32m   4470\u001b[0m         \u001b[39m# TODO: check args and in case use args=(noisehandler.evaluations, )\u001b[39;00m\n\u001b[1;32m   4472\u001b[0m         \u001b[39mif\u001b[39;00m \u001b[39m11\u001b[39m \u001b[39m<\u001b[39m \u001b[39m3\u001b[39m \u001b[39mand\u001b[39;00m opts[\u001b[39m'\u001b[39m\u001b[39mvv\u001b[39m\u001b[39m'\u001b[39m]:  \u001b[39m# inject a solution\u001b[39;00m\n\u001b[1;32m   4473\u001b[0m             \u001b[39m# use option check_point = [0]\u001b[39;00m\n",
      "File \u001b[0;32m~/robustGP/.venvrobustGP/lib/python3.8/site-packages/cma/evolution_strategy.py:2455\u001b[0m, in \u001b[0;36mCMAEvolutionStrategy.ask_and_eval\u001b[0;34m(self, func, args, gradf, number, xmean, sigma_fac, evaluations, aggregation, kappa, parallel_mode)\u001b[0m\n\u001b[1;32m   2451\u001b[0m     length_normalizer \u001b[39m=\u001b[39m \u001b[39mself\u001b[39m\u001b[39m.\u001b[39mN\u001b[39m*\u001b[39m\u001b[39m*\u001b[39m\u001b[39m0.5\u001b[39m \u001b[39m/\u001b[39m \u001b[39mself\u001b[39m\u001b[39m.\u001b[39mmahalanobis_norm(x \u001b[39m-\u001b[39m xmean)  \u001b[39m# self.const.chiN < N**0.5, the constant here is irrelevant (absorbed by kappa)\u001b[39;00m\n\u001b[1;32m   2452\u001b[0m     \u001b[39m# print(self.N**0.5 / self.mahalanobis_norm(x - xmean))\u001b[39;00m\n\u001b[1;32m   2453\u001b[0m     \u001b[39m# self.more_to_write += [length_normalizer * 1e-3, length_normalizer * self.mahalanobis_norm(x - xmean) * 1e2]\u001b[39;00m\n\u001b[0;32m-> 2455\u001b[0m f \u001b[39m=\u001b[39m func(x, \u001b[39m*\u001b[39;49margs) \u001b[39mif\u001b[39;00m kappa \u001b[39m==\u001b[39m \u001b[39m1\u001b[39m \u001b[39melse\u001b[39;00m \\\n\u001b[1;32m   2456\u001b[0m     func(xmean \u001b[39m+\u001b[39m kappa \u001b[39m*\u001b[39m length_normalizer \u001b[39m*\u001b[39m (x \u001b[39m-\u001b[39m xmean),\n\u001b[1;32m   2457\u001b[0m          \u001b[39m*\u001b[39margs)\n\u001b[1;32m   2458\u001b[0m \u001b[39mif\u001b[39;00m is_feasible(x, f) \u001b[39mand\u001b[39;00m evaluations \u001b[39m>\u001b[39m \u001b[39m1\u001b[39m:\n\u001b[1;32m   2459\u001b[0m     f \u001b[39m=\u001b[39m aggregation([f] \u001b[39m+\u001b[39m [(func(x, \u001b[39m*\u001b[39margs) \u001b[39mif\u001b[39;00m kappa \u001b[39m==\u001b[39m \u001b[39m1\u001b[39m \u001b[39melse\u001b[39;00m\n\u001b[1;32m   2460\u001b[0m                             func(xmean \u001b[39m+\u001b[39m kappa \u001b[39m*\u001b[39m length_normalizer \u001b[39m*\u001b[39m (x \u001b[39m-\u001b[39m xmean), \u001b[39m*\u001b[39margs))\n\u001b[1;32m   2461\u001b[0m                            \u001b[39mfor\u001b[39;00m _i \u001b[39min\u001b[39;00m \u001b[39mrange\u001b[39m(\u001b[39mint\u001b[39m(evaluations \u001b[39m-\u001b[39m \u001b[39m1\u001b[39m))])\n",
      "File \u001b[0;32m~/robustGP/robustGP/enrichment/Enrichment.py:65\u001b[0m, in \u001b[0;36mOneStepEnrichment.run.<locals>.<lambda>\u001b[0;34m(X)\u001b[0m\n\u001b[1;32m     64\u001b[0m \u001b[39mdef\u001b[39;00m \u001b[39mrun\u001b[39m(\u001b[39mself\u001b[39m, gp):\n\u001b[0;32m---> 65\u001b[0m     \u001b[39mreturn\u001b[39;00m \u001b[39mself\u001b[39m\u001b[39m.\u001b[39moptimiser(\u001b[39mlambda\u001b[39;00m X: \u001b[39mself\u001b[39;49m\u001b[39m.\u001b[39;49mcriterion(gp, np\u001b[39m.\u001b[39;49matleast_2d(X)))\n",
      "File \u001b[0;32m~/robustGP/robustGP/enrichment/Enrichment.py:62\u001b[0m, in \u001b[0;36mOneStepEnrichment.set_criterion.<locals>.<lambda>\u001b[0;34m(gp, X)\u001b[0m\n\u001b[1;32m     60\u001b[0m     \u001b[39mself\u001b[39m\u001b[39m.\u001b[39mcriterion \u001b[39m=\u001b[39m \u001b[39mlambda\u001b[39;00m gp, X: \u001b[39m-\u001b[39mcriterion(gp, X, \u001b[39m*\u001b[39m\u001b[39m*\u001b[39margs)\n\u001b[1;32m     61\u001b[0m \u001b[39melse\u001b[39;00m:\n\u001b[0;32m---> 62\u001b[0m     \u001b[39mself\u001b[39m\u001b[39m.\u001b[39mcriterion \u001b[39m=\u001b[39m \u001b[39mlambda\u001b[39;00m gp, X: criterion(gp, X, \u001b[39m*\u001b[39;49m\u001b[39m*\u001b[39;49margs)\n",
      "Cell \u001b[0;32mIn [30], line 92\u001b[0m, in \u001b[0;36maugmented_IMSE_Delta\u001b[0;34m(arg, X, scenarios, integration_points, alpha, beta)\u001b[0m\n\u001b[1;32m     89\u001b[0m     m, va \u001b[39m=\u001b[39m arg\u001b[39m.\u001b[39mpredict_GPdelta(int_points, alpha\u001b[39m=\u001b[39malpha, beta\u001b[39m=\u001b[39mbeta)\n\u001b[1;32m     90\u001b[0m     \u001b[39mreturn\u001b[39;00m va\n\u001b[0;32m---> 92\u001b[0m \u001b[39mreturn\u001b[39;00m ac\u001b[39m.\u001b[39;49maugmented_design(arg, X, scenarios, function_, {})\n",
      "File \u001b[0;32m~/robustGP/robustGP/acquisition/acquisition.py:128\u001b[0m, in \u001b[0;36maugmented_design\u001b[0;34m(arg, X, scenarios, function_, args)\u001b[0m\n\u001b[1;32m    126\u001b[0m     \u001b[39mfor\u001b[39;00m i, zi \u001b[39min\u001b[39;00m \u001b[39menumerate\u001b[39m(scenarios(m_, s_)):\n\u001b[1;32m    127\u001b[0m         aug_gp \u001b[39m=\u001b[39m arg\u001b[39m.\u001b[39maugmented_GP(X[j], zi)\n\u001b[0;32m--> 128\u001b[0m         augmented_sc[i] \u001b[39m=\u001b[39m function_(aug_gp, \u001b[39m*\u001b[39;49m\u001b[39m*\u001b[39;49margs)\u001b[39m.\u001b[39mmean()\n\u001b[1;32m    129\u001b[0m     augmented_meas[j] \u001b[39m=\u001b[39m augmented_sc\u001b[39m.\u001b[39mmean()\n\u001b[1;32m    130\u001b[0m \u001b[39mreturn\u001b[39;00m augmented_meas\n",
      "Cell \u001b[0;32mIn [30], line 89\u001b[0m, in \u001b[0;36maugmented_IMSE_Delta.<locals>.function_\u001b[0;34m(arg)\u001b[0m\n\u001b[1;32m     88\u001b[0m \u001b[39mdef\u001b[39;00m \u001b[39mfunction_\u001b[39m(arg):\n\u001b[0;32m---> 89\u001b[0m     m, va \u001b[39m=\u001b[39m arg\u001b[39m.\u001b[39;49mpredict_GPdelta(int_points, alpha\u001b[39m=\u001b[39;49malpha, beta\u001b[39m=\u001b[39;49mbeta)\n\u001b[1;32m     90\u001b[0m     \u001b[39mreturn\u001b[39;00m va\n",
      "File \u001b[0;32m~/robustGP/robustGP/SURmodel.py:255\u001b[0m, in \u001b[0;36mAdaptiveStrategy.predict_GPdelta\u001b[0;34m(self, X, alpha, beta)\u001b[0m\n\u001b[1;32m    252\u001b[0m \u001b[39mdef\u001b[39;00m \u001b[39mpredict_GPdelta\u001b[39m(\n\u001b[1;32m    253\u001b[0m     \u001b[39mself\u001b[39m, X: np\u001b[39m.\u001b[39mndarray, alpha: \u001b[39mfloat\u001b[39m, beta: \u001b[39mfloat\u001b[39m \u001b[39m=\u001b[39m \u001b[39m0.0\u001b[39m\n\u001b[1;32m    254\u001b[0m ) \u001b[39m-\u001b[39m\u001b[39m>\u001b[39m Tuple[np\u001b[39m.\u001b[39mndarray, np\u001b[39m.\u001b[39mndarray]:\n\u001b[0;32m--> 255\u001b[0m     \u001b[39mreturn\u001b[39;00m m_s_delta(\u001b[39mself\u001b[39;49m, X\u001b[39m=\u001b[39;49mX, alpha\u001b[39m=\u001b[39;49malpha, beta\u001b[39m=\u001b[39;49mbeta)\n",
      "File \u001b[0;32m~/robustGP/robustGP/gptools.py:80\u001b[0m, in \u001b[0;36mm_s_delta\u001b[0;34m(arg, X, alpha, beta)\u001b[0m\n\u001b[1;32m     78\u001b[0m \u001b[39mfor\u001b[39;00m i, (x1, x2) \u001b[39min\u001b[39;00m \u001b[39menumerate\u001b[39m(\u001b[39mzip\u001b[39m(X1, X2)):\n\u001b[1;32m     79\u001b[0m     set_input \u001b[39m=\u001b[39m arg\u001b[39m.\u001b[39mcreate_input(x2)\n\u001b[0;32m---> 80\u001b[0m     x1_star \u001b[39m=\u001b[39m arg\u001b[39m.\u001b[39;49mget_conditional_minimiser(x2)\u001b[39m.\u001b[39mx\n\u001b[1;32m     81\u001b[0m     mu[i], var[i], _ \u001b[39m=\u001b[39m gp_to_delta(\n\u001b[1;32m     82\u001b[0m         arg,\n\u001b[1;32m     83\u001b[0m         set_input(x1)\u001b[39m.\u001b[39mflatten(),\n\u001b[0;32m   (...)\u001b[0m\n\u001b[1;32m     87\u001b[0m         return_var\u001b[39m=\u001b[39m\u001b[39mTrue\u001b[39;00m,\n\u001b[1;32m     88\u001b[0m     )\n\u001b[1;32m     89\u001b[0m     \u001b[39m# m, s = cond_pred(x1, return_std=True)\u001b[39;00m\n",
      "File \u001b[0;32m~/robustGP/robustGP/SURmodel.py:232\u001b[0m, in \u001b[0;36mAdaptiveStrategy.get_conditional_minimiser\u001b[0;34m(self, u)\u001b[0m\n\u001b[1;32m    230\u001b[0m \u001b[39mdef\u001b[39;00m \u001b[39mget_conditional_minimiser\u001b[39m(\u001b[39mself\u001b[39m, u: np\u001b[39m.\u001b[39mndarray):\n\u001b[1;32m    231\u001b[0m     set_input \u001b[39m=\u001b[39m \u001b[39mself\u001b[39m\u001b[39m.\u001b[39mcreate_input(u)\n\u001b[0;32m--> 232\u001b[0m     \u001b[39mreturn\u001b[39;00m opt\u001b[39m.\u001b[39;49moptimize_with_restart(\n\u001b[1;32m    233\u001b[0m         \u001b[39mlambda\u001b[39;49;00m X: \u001b[39mself\u001b[39;49m\u001b[39m.\u001b[39;49mgp\u001b[39m.\u001b[39;49mpredict(set_input(np\u001b[39m.\u001b[39;49matleast_2d(X)\u001b[39m.\u001b[39;49mT)),\n\u001b[1;32m    234\u001b[0m         \u001b[39mself\u001b[39;49m\u001b[39m.\u001b[39;49mbounds[\u001b[39mself\u001b[39;49m\u001b[39m.\u001b[39;49midxK],\n\u001b[1;32m    235\u001b[0m         \u001b[39m10\u001b[39;49m,\n\u001b[1;32m    236\u001b[0m     )[\u001b[39m2\u001b[39m]\n",
      "File \u001b[0;32m~/robustGP/robustGP/optimisers.py:21\u001b[0m, in \u001b[0;36moptimize_with_restart\u001b[0;34m(criterion, bounds, nrestart)\u001b[0m\n\u001b[1;32m     19\u001b[0m bestcrit \u001b[39m=\u001b[39m np\u001b[39m.\u001b[39minf\n\u001b[1;32m     20\u001b[0m \u001b[39mfor\u001b[39;00m x0_ \u001b[39min\u001b[39;00m x0:\n\u001b[0;32m---> 21\u001b[0m     optim \u001b[39m=\u001b[39m scipy\u001b[39m.\u001b[39;49moptimize\u001b[39m.\u001b[39;49mminimize(criterion, x0\u001b[39m=\u001b[39;49mx0_, bounds\u001b[39m=\u001b[39;49mbounds)\n\u001b[1;32m     22\u001b[0m     \u001b[39mif\u001b[39;00m optim\u001b[39m.\u001b[39mfun \u001b[39m<\u001b[39m bestcrit:\n\u001b[1;32m     23\u001b[0m         best_optim \u001b[39m=\u001b[39m optim\n",
      "File \u001b[0;32m~/robustGP/.venvrobustGP/lib/python3.8/site-packages/scipy/optimize/_minimize.py:699\u001b[0m, in \u001b[0;36mminimize\u001b[0;34m(fun, x0, args, method, jac, hess, hessp, bounds, constraints, tol, callback, options)\u001b[0m\n\u001b[1;32m    696\u001b[0m     res \u001b[39m=\u001b[39m _minimize_newtoncg(fun, x0, args, jac, hess, hessp, callback,\n\u001b[1;32m    697\u001b[0m                              \u001b[39m*\u001b[39m\u001b[39m*\u001b[39moptions)\n\u001b[1;32m    698\u001b[0m \u001b[39melif\u001b[39;00m meth \u001b[39m==\u001b[39m \u001b[39m'\u001b[39m\u001b[39ml-bfgs-b\u001b[39m\u001b[39m'\u001b[39m:\n\u001b[0;32m--> 699\u001b[0m     res \u001b[39m=\u001b[39m _minimize_lbfgsb(fun, x0, args, jac, bounds,\n\u001b[1;32m    700\u001b[0m                            callback\u001b[39m=\u001b[39;49mcallback, \u001b[39m*\u001b[39;49m\u001b[39m*\u001b[39;49moptions)\n\u001b[1;32m    701\u001b[0m \u001b[39melif\u001b[39;00m meth \u001b[39m==\u001b[39m \u001b[39m'\u001b[39m\u001b[39mtnc\u001b[39m\u001b[39m'\u001b[39m:\n\u001b[1;32m    702\u001b[0m     res \u001b[39m=\u001b[39m _minimize_tnc(fun, x0, args, jac, bounds, callback\u001b[39m=\u001b[39mcallback,\n\u001b[1;32m    703\u001b[0m                         \u001b[39m*\u001b[39m\u001b[39m*\u001b[39moptions)\n",
      "File \u001b[0;32m~/robustGP/.venvrobustGP/lib/python3.8/site-packages/scipy/optimize/_lbfgsb_py.py:360\u001b[0m, in \u001b[0;36m_minimize_lbfgsb\u001b[0;34m(fun, x0, args, jac, bounds, disp, maxcor, ftol, gtol, eps, maxfun, maxiter, iprint, callback, maxls, finite_diff_rel_step, **unknown_options)\u001b[0m\n\u001b[1;32m    354\u001b[0m task_str \u001b[39m=\u001b[39m task\u001b[39m.\u001b[39mtobytes()\n\u001b[1;32m    355\u001b[0m \u001b[39mif\u001b[39;00m task_str\u001b[39m.\u001b[39mstartswith(\u001b[39mb\u001b[39m\u001b[39m'\u001b[39m\u001b[39mFG\u001b[39m\u001b[39m'\u001b[39m):\n\u001b[1;32m    356\u001b[0m     \u001b[39m# The minimization routine wants f and g at the current x.\u001b[39;00m\n\u001b[1;32m    357\u001b[0m     \u001b[39m# Note that interruptions due to maxfun are postponed\u001b[39;00m\n\u001b[1;32m    358\u001b[0m     \u001b[39m# until the completion of the current minimization iteration.\u001b[39;00m\n\u001b[1;32m    359\u001b[0m     \u001b[39m# Overwrite f and g:\u001b[39;00m\n\u001b[0;32m--> 360\u001b[0m     f, g \u001b[39m=\u001b[39m func_and_grad(x)\n\u001b[1;32m    361\u001b[0m \u001b[39melif\u001b[39;00m task_str\u001b[39m.\u001b[39mstartswith(\u001b[39mb\u001b[39m\u001b[39m'\u001b[39m\u001b[39mNEW_X\u001b[39m\u001b[39m'\u001b[39m):\n\u001b[1;32m    362\u001b[0m     \u001b[39m# new iteration\u001b[39;00m\n\u001b[1;32m    363\u001b[0m     n_iterations \u001b[39m+\u001b[39m\u001b[39m=\u001b[39m \u001b[39m1\u001b[39m\n",
      "File \u001b[0;32m~/robustGP/.venvrobustGP/lib/python3.8/site-packages/scipy/optimize/_differentiable_functions.py:286\u001b[0m, in \u001b[0;36mScalarFunction.fun_and_grad\u001b[0;34m(self, x)\u001b[0m\n\u001b[1;32m    284\u001b[0m     \u001b[39mself\u001b[39m\u001b[39m.\u001b[39m_update_x_impl(x)\n\u001b[1;32m    285\u001b[0m \u001b[39mself\u001b[39m\u001b[39m.\u001b[39m_update_fun()\n\u001b[0;32m--> 286\u001b[0m \u001b[39mself\u001b[39;49m\u001b[39m.\u001b[39;49m_update_grad()\n\u001b[1;32m    287\u001b[0m \u001b[39mreturn\u001b[39;00m \u001b[39mself\u001b[39m\u001b[39m.\u001b[39mf, \u001b[39mself\u001b[39m\u001b[39m.\u001b[39mg\n",
      "File \u001b[0;32m~/robustGP/.venvrobustGP/lib/python3.8/site-packages/scipy/optimize/_differentiable_functions.py:256\u001b[0m, in \u001b[0;36mScalarFunction._update_grad\u001b[0;34m(self)\u001b[0m\n\u001b[1;32m    254\u001b[0m \u001b[39mdef\u001b[39;00m \u001b[39m_update_grad\u001b[39m(\u001b[39mself\u001b[39m):\n\u001b[1;32m    255\u001b[0m     \u001b[39mif\u001b[39;00m \u001b[39mnot\u001b[39;00m \u001b[39mself\u001b[39m\u001b[39m.\u001b[39mg_updated:\n\u001b[0;32m--> 256\u001b[0m         \u001b[39mself\u001b[39;49m\u001b[39m.\u001b[39;49m_update_grad_impl()\n\u001b[1;32m    257\u001b[0m         \u001b[39mself\u001b[39m\u001b[39m.\u001b[39mg_updated \u001b[39m=\u001b[39m \u001b[39mTrue\u001b[39;00m\n",
      "File \u001b[0;32m~/robustGP/.venvrobustGP/lib/python3.8/site-packages/scipy/optimize/_differentiable_functions.py:173\u001b[0m, in \u001b[0;36mScalarFunction.__init__.<locals>.update_grad\u001b[0;34m()\u001b[0m\n\u001b[1;32m    171\u001b[0m \u001b[39mself\u001b[39m\u001b[39m.\u001b[39m_update_fun()\n\u001b[1;32m    172\u001b[0m \u001b[39mself\u001b[39m\u001b[39m.\u001b[39mngev \u001b[39m+\u001b[39m\u001b[39m=\u001b[39m \u001b[39m1\u001b[39m\n\u001b[0;32m--> 173\u001b[0m \u001b[39mself\u001b[39m\u001b[39m.\u001b[39mg \u001b[39m=\u001b[39m approx_derivative(fun_wrapped, \u001b[39mself\u001b[39;49m\u001b[39m.\u001b[39;49mx, f0\u001b[39m=\u001b[39;49m\u001b[39mself\u001b[39;49m\u001b[39m.\u001b[39;49mf,\n\u001b[1;32m    174\u001b[0m                            \u001b[39m*\u001b[39;49m\u001b[39m*\u001b[39;49mfinite_diff_options)\n",
      "File \u001b[0;32m~/robustGP/.venvrobustGP/lib/python3.8/site-packages/scipy/optimize/_numdiff.py:469\u001b[0m, in \u001b[0;36mapprox_derivative\u001b[0;34m(fun, x0, method, rel_step, abs_step, f0, bounds, sparsity, as_linear_operator, args, kwargs)\u001b[0m\n\u001b[1;32m    466\u001b[0m     \u001b[39mif\u001b[39;00m f0\u001b[39m.\u001b[39mndim \u001b[39m>\u001b[39m \u001b[39m1\u001b[39m:\n\u001b[1;32m    467\u001b[0m         \u001b[39mraise\u001b[39;00m \u001b[39mValueError\u001b[39;00m(\u001b[39m\"\u001b[39m\u001b[39m`f0` passed has more than 1 dimension.\u001b[39m\u001b[39m\"\u001b[39m)\n\u001b[0;32m--> 469\u001b[0m \u001b[39mif\u001b[39;00m np\u001b[39m.\u001b[39many((x0 \u001b[39m<\u001b[39m lb) \u001b[39m|\u001b[39m (x0 \u001b[39m>\u001b[39;49m ub)):\n\u001b[1;32m    470\u001b[0m     \u001b[39mraise\u001b[39;00m \u001b[39mValueError\u001b[39;00m(\u001b[39m\"\u001b[39m\u001b[39m`x0` violates bound constraints.\u001b[39m\u001b[39m\"\u001b[39m)\n\u001b[1;32m    472\u001b[0m \u001b[39mif\u001b[39;00m as_linear_operator:\n",
      "\u001b[0;31mKeyboardInterrupt\u001b[0m: "
     ]
    }
   ],
   "source": [
    "\n",
    "\n",
    "## Maximum of Variance\n",
    "branin_maxvar = initialize_branin()\n",
    "opts = cma.CMAOptions()\n",
    "opts[\"bounds\"] = list(zip(*bounds))\n",
    "opts[\"maxfevals\"] = 50\n",
    "opts[\"verbose\"] = -5\n",
    "maximum_variance = enrich.OneStepEnrichment(bounds)\n",
    "maximum_variance.set_optim(\n",
    "    cma.fmin2, **{\"x0\": np.array([0.5, 0.5]), \"sigma0\": 0.3, \"options\": opts}\n",
    ")\n",
    "\n",
    "\n",
    "def variance(arg, X):\n",
    "    return arg.predict(X, return_std=True)[1] ** 2\n",
    "\n",
    "\n",
    "maximum_variance.set_criterion(variance, maxi=True)\n",
    "branin_maxvar.set_enrichment(maximum_variance)\n",
    "run_diag = branin_maxvar.run(\n",
    "    Niter=50, callback=partial(callback, filename=fname(\"variance\"))\n",
    ")\n",
    "imse_maxvar, imse_del_maxvar = list(zip(*run_diag))\n",
    "maxvar_dict = {\n",
    "    \"model\": branin_maxvar,\n",
    "    \"logs\": {\"imse\": imse_maxvar, \"imse_del\": imse_del_maxvar},\n",
    "}\n",
    "result_dictionary[\"maxvar\"] = maxvar_dict\n",
    "\n",
    "\n",
    "## augmented IMSE\n",
    "\n",
    "\n",
    "def aIMSE_experiment(Niter, filename):\n",
    "    branin_aIMSE = initialize_branin()\n",
    "    opts = cma.CMAOptions()\n",
    "    opts[\"bounds\"] = list(zip(*bounds))\n",
    "    opts[\"maxfevals\"] = 50\n",
    "    opts[\"verbose\"] = -5\n",
    "    aIMSE = enrich.OneStepEnrichment(bounds)\n",
    "    aIMSE.set_optim(\n",
    "        cma.fmin2, **{\"x0\": np.array([0.5, 0.5]), \"sigma0\": 0.3, \"options\": opts}\n",
    "    )\n",
    "\n",
    "    def augmented_IMSE(arg, X, scenarios, integration_points):\n",
    "        if callable(integration_points):\n",
    "            int_points = integration_points()\n",
    "        else:\n",
    "            int_points = integration_points\n",
    "\n",
    "        def function_(arg):\n",
    "            m, sd = arg.predict(int_points, return_std=True)\n",
    "            return sd**2\n",
    "\n",
    "        return ac.augmented_design(arg, X, scenarios, function_, {})\n",
    "\n",
    "    integration_points = pyDOE.lhs(2, 50, criterion=\"maximin\", iterations=50)\n",
    "    aIMSE.set_criterion(\n",
    "        augmented_IMSE,\n",
    "        maxi=False,\n",
    "        scenarios=None,\n",
    "        integration_points=lambda: pyDOE.lhs(2, 50, criterion=\"maximin\", iterations=50),\n",
    "    )  #\n",
    "    branin_aIMSE.set_enrichment(aIMSE)\n",
    "    run_diag = branin_aIMSE.run(\n",
    "        Niter=50, callback=partial(callback, filename=fname(\"aIMSE_50\"))\n",
    "    )\n",
    "    imse_aIMSE, imse_del_aIMSE = list(zip(*run_diag))\n",
    "\n",
    "\n",
    "## augmented IMSE delta\n",
    "branin_aIMSE_delta = initialize_branin()\n",
    "opts = cma.CMAOptions()\n",
    "opts[\"bounds\"] = list(zip(*bounds))\n",
    "opts[\"maxfevals\"] = 50\n",
    "opts[\"verbose\"] = -9\n",
    "aIMSE_delta = enrich.OneStepEnrichment(bounds)\n",
    "aIMSE_delta.set_optim(\n",
    "    cma.fmin2, **{\"x0\": np.array([0.5, 0.5]), \"sigma0\": 0.3, \"options\": opts}\n",
    ")\n",
    "\n",
    "\n",
    "def augmented_IMSE_Delta(arg, X, scenarios, integration_points, alpha, beta=0):\n",
    "    if callable(integration_points):\n",
    "        int_points = integration_points()\n",
    "    else:\n",
    "        int_points = integration_points\n",
    "\n",
    "    def function_(arg):\n",
    "        m, va = arg.predict_GPdelta(int_points, alpha=alpha, beta=beta)\n",
    "        return va\n",
    "\n",
    "    return ac.augmented_design(arg, X, scenarios, function_, {})\n",
    "\n",
    "\n",
    "aIMSE_delta.set_criterion(\n",
    "    augmented_IMSE_Delta,\n",
    "    maxi=False,\n",
    "    scenarios=None,\n",
    "    integration_points=lambda: pyDOE.lhs(2, 50, criterion=\"maximin\", iterations=50),\n",
    "    alpha=2.0,\n",
    "    beta=0.0,\n",
    ")  #\n",
    "\n",
    "branin_aIMSE_delta.set_enrichment(aIMSE_delta)\n",
    "run_diag = branin_aIMSE_delta.run(\n",
    "    Niter=20, callback=partial(callback, filename=fname(\"aIMSE_delta\"))\n",
    ")\n",
    "imse_aIMSE_delta, imse_del_aIMSE_delta = list(zip(*run_diag))\n",
    "aIMSE_delta_dict = {\n",
    "    \"model\": branin_aIMSE_delta,\n",
    "    \"logs\": {\"imse\": imse_aIMSE_delta, \"imse_del\": imse_del_aIMSE_delta},\n",
    "}\n",
    "\n",
    "\n",
    "result_dictionary[\"aIMSE_delta\"] = aIMSE_delta_dict\n",
    "\n",
    "\n",
    "# plt.subplot(1, 2, 1)\n",
    "# plt.plot(imse_MC, label=\"MC\")\n",
    "# plt.plot(imse_halton, label=\"Halton\")\n",
    "# plt.plot(imse_maxvar, label=\"maxvar\")\n",
    "# plt.plot(imse_aIMSE, label=\"aIMSE\")\n",
    "# plt.title(r\"$\\text{IMSE}_Z$\")\n",
    "# plt.yscale(\"log\")\n",
    "\n",
    "# plt.subplot(1, 2, 2)\n",
    "# plt.plot(imse_del_MC, label=\"MC\")\n",
    "# plt.plot(imse_del_halton, label=\"Halton\")\n",
    "# plt.plot(imse_del_maxvar, label=\"maxvar\")\n",
    "# plt.plot(imse_del_aIMSE, label=\"aIMSE\")\n",
    "# plt.yscale(\"log\")\n",
    "# plt.title(r\"$\\text{IMSE}_{\\Delta}$\")\n",
    "# plt.legend()\n",
    "# plt.show()\n",
    "\n",
    "# import pickle\n",
    "\n",
    "\n",
    "# def save_gp_diag(sur_obj, diag, filename):\n",
    "#     to_save_dict = {\"AdaptiveStrat\": sur_obj.gp, \"diag\": diag}\n",
    "#     with open(filename, \"wb\") as open_file:\n",
    "#         pickle.dump(to_save_dict, open_file)\n",
    "\n",
    "\n",
    "aIMSE_diags = {\"imse\": imse_aIMSE, \"imse_delta\": imse_del_aIMSE}\n",
    "\n",
    "save_gp_diag(branin_aIMSE, aIMSE_diags, \"aIMSE.pkl\")\n",
    "\n",
    "with open(\"aIMSE.pkl\", \"rb\") as open_file:\n",
    "    gp_ = pickle.load(open_file)\n"
   ]
  },
  {
   "cell_type": "code",
   "execution_count": 31,
   "metadata": {},
   "outputs": [
    {
     "data": {
      "image/png": "[encoded data removed]",
      "text/plain": [
       "<Figure size 640x480 with 2 Axes>"
      ]
     },
     "metadata": {},
     "output_type": "display_data"
    }
   ],
   "source": [
    "%matplotlib inline\n",
    "fig, axs = plt.subplots(ncols=2)\n",
    "for i in range(5):\n",
    "    imse = np.array(result_dictionary[f\"MC_{i}\"][\"logs\"][\"imse\"])\n",
    "    imse = imse[~np.isnan(imse)]\n",
    "    imse_del = np.array(result_dictionary[f\"MC_{i}\"][\"logs\"][\"imse_del\"])\n",
    "    imse_del = imse_del[~np.isnan(imse_del)]\n",
    "    axs[0].plot(imse, '.-', label=\"imse\", color=\"b\", alpha=0.4)\n",
    "    axs[1].plot(imse_del, '.-', label=\"imse del\", color=\"b\", alpha=0.4)\n",
    "imse = np.array(result_dictionary[\"halton\"][\"logs\"][\"imse\"])\n",
    "imse = imse[~np.isnan(imse)]\n",
    "imse_del = np.array(result_dictionary[\"halton\"][\"logs\"][\"imse_del\"])\n",
    "imse_del = imse_del[~np.isnan(imse_del)]\n",
    "axs[0].plot(imse, '.-', color=\"r\")\n",
    "axs[1].plot(imse_del, '.-', color=\"r\")\n",
    "\n",
    "imse = np.array(result_dictionary[\"maxvar\"][\"logs\"][\"imse\"])\n",
    "imse = imse[~np.isnan(imse)]\n",
    "imse_del = np.array(result_dictionary[\"maxvar\"][\"logs\"][\"imse_del\"])\n",
    "imse_del = imse_del[~np.isnan(imse_del)]\n",
    "axs[0].plot(imse, '.-', color=\"g\")\n",
    "axs[1].plot(imse_del, '.-', color=\"g\")\n",
    "for ax in axs:\n",
    "    ax.set_yscale(\"log\")\n",
    "plt.show()"
   ]
  },
  {
   "cell_type": "code",
   "execution_count": null,
   "metadata": {},
   "outputs": [],
   "source": []
  }
 ],
 "metadata": {
  "kernelspec": {
   "display_name": "Python 3.8.10 ('.venvrobustGP': venv)",
   "language": "python",
   "name": "python3"
  },
  "language_info": {
   "codemirror_mode": {
    "name": "ipython",
    "version": 3
   },
   "file_extension": ".py",
   "mimetype": "text/x-python",
   "name": "python",
   "nbconvert_exporter": "python",
   "pygments_lexer": "ipython3",
   "version": "3.8.10"
  },
  "orig_nbformat": 4,
  "vscode": {
   "interpreter": {
    "hash": "2d6b6680e5d8d665809815c464dfdd737678bab73d9d88fe8f2171813ca3d1b2"
   }
  }
 },
 "nbformat": 4,
 "nbformat_minor": 2
}
