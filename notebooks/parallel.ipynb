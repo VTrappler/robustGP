{
 "cells": [
  {
   "cell_type": "code",
   "execution_count": 1,
   "metadata": {},
   "outputs": [],
   "source": [
    "import sys\n",
    "sys.path.append('..')\n",
    "import numpy as np\n",
    "import tqdm\n",
    "import argparse\n",
    "import pyDOE\n",
    "from sklearn.gaussian_process.kernels import Matern\n",
    "\n",
    "from robustGP.SURmodel import AdaptiveStrategy\n",
    "from robustGP.test_functions import branin_2d\n",
    "import robustGP.tools as tools\n",
    "import robustGP.acquisition.acquisition as ac"
   ]
  },
  {
   "cell_type": "code",
   "execution_count": 2,
   "metadata": {},
   "outputs": [],
   "source": [
    "\n",
    "def initialize_branin(initial_design=None):\n",
    "    \"\"\"\n",
    "    Create new instance of AdaptiveStrategy of the Branin 2d function\n",
    "    with LHS as initial design\n",
    "    \"\"\"\n",
    "    NDIM = 2\n",
    "    bounds = np.asarray([(0, 1)] * NDIM)\n",
    "    if initial_design is None:\n",
    "        initial_design = 5 * NDIM\n",
    "    if isinstance(initial_design, int):\n",
    "        initial_design = pyDOE.lhs(\n",
    "            n=NDIM, samples=initial_design, criterion=\"maximin\", iterations=50\n",
    "        )\n",
    "    branin = AdaptiveStrategy(bounds, branin_2d)\n",
    "    branin.fit_gp(\n",
    "        initial_design,\n",
    "        branin.evaluate_function(initial_design),\n",
    "        Matern(np.ones(NDIM)),\n",
    "        n_restarts_optimizer=50,\n",
    "    )\n",
    "    branin.set_idxU([1], ndim=2)\n",
    "    return branin\n",
    "\n",
    "\n",
    "bounds = np.asarray([[0, 1], [0, 1]])\n",
    "# For plots\n",
    "x, y = np.linspace(0, 1, 50), np.linspace(0, 1, 50)\n",
    "(XY, (xmg, ymg)) = tools.pairify((x, y))\n",
    "xl, yl = np.linspace(0, 1, 500), np.linspace(0, 1, 500)\n",
    "(XYl, (xmgl, ymgl)) = tools.pairify((xl, yl))\n",
    "xs, ys = np.linspace(0, 1, 20), np.linspace(0, 1, 20)\n",
    "(XYs, (xmgs, ymgs)) = tools.pairify((xs, ys))\n",
    "\n",
    "xsmall, ysmall = np.linspace(0, 1, 4), np.linspace(0, 1, 4)\n",
    "(XYsmall, (xmgsmall, ymgsmall)) = tools.pairify((xsmall, ysmall))\n",
    "\n",
    "\n",
    "branin = initialize_branin(6)\n",
    "\n",
    "\n",
    "def augmented_IMSE(arg, X, scenarios, integration_points, verbose=True):\n",
    "    if callable(integration_points):\n",
    "        int_points = integration_points()\n",
    "    else:\n",
    "        int_points = integration_points\n",
    "\n",
    "    def function_(arg):\n",
    "        m, sd = arg.predict(int_points, return_std=True)\n",
    "        return sd**2\n",
    "\n",
    "    return ac.augmented_design(arg, X, scenarios, function_, {}, verbose=verbose)\n",
    "\n",
    "\n",
    "def augmented_IMSE_Delta(\n",
    "    arg, X, scenarios, integration_points, alpha, beta=0, verbose=True\n",
    "):\n",
    "    if callable(integration_points):\n",
    "        int_points = integration_points()\n",
    "    else:\n",
    "        int_points = integration_points\n",
    "\n",
    "    def function_(arg):\n",
    "        m, va = arg.predict_GPdelta(int_points, alpha=alpha, beta=beta)\n",
    "        return va\n",
    "\n",
    "    return ac.augmented_design(arg, X, scenarios, function_, {}, verbose=verbose)\n",
    "\n",
    "\n",
    "def augmented_IVPC_Delta(\n",
    "    arg, X, scenarios, integration_points, alpha, beta=0, verbose=True\n",
    "):\n",
    "    if callable(integration_points):\n",
    "        int_points = integration_points()\n",
    "    else:\n",
    "        int_points = integration_points\n",
    "\n",
    "    def function_(arg):\n",
    "        m, va = arg.predict_GPdelta(int_points, alpha=alpha, beta=beta)\n",
    "        s = np.sqrt(va)\n",
    "        return ac.variance_probability_coverage((m, s), None, 0)\n",
    "\n",
    "    return ac.augmented_design(arg, X, scenarios, function_, {}, verbose=verbose)\n",
    "\n",
    "\n",
    "def save_at_each_iteration(filename, header=None):\n",
    "    def decorator(function):\n",
    "        def saving_function(XY, *args, **kwargs):\n",
    "            print(filename)\n",
    "            if header is not None:\n",
    "                with open(filename, \"w+\") as fhandle:\n",
    "                    to_write = f\"#{header}\\n\"\n",
    "                    print(f\"-- {to_write}\")\n",
    "                    fhandle.write(to_write)\n",
    "            for xy in tqdm.tqdm(XY):\n",
    "                response = function(xy.reshape(-1, 2), *args, **kwargs)\n",
    "                with open(filename, \"a+\") as fhandle:\n",
    "                    to_write = np.atleast_2d(np.hstack([xy[0], xy[1], response]))\n",
    "                    np.savetxt(fhandle, to_write, delimiter=\",\")\n",
    "            return None\n",
    "\n",
    "        return saving_function\n",
    "\n",
    "    return decorator\n",
    "\n",
    "import multiprocessing\n",
    "def save_at_each_iteration_parallel(filename, header=None, nworkers=4):\n",
    "    def decorator(function):\n",
    "        pool = multiprocessing.Pool(processes=nworkers)\n",
    "        def pooled_func(XY, *args, **kwargs):\n",
    "            elt_func = lambda xy: function(xy.reshape(-1, 2), *args, **kwargs)\n",
    "            result = pool.map(elt_func, XY)\n",
    "            return result\n",
    "        return pooled_func\n",
    "\n",
    "    return decorator"
   ]
  },
  {
   "cell_type": "code",
   "execution_count": 3,
   "metadata": {},
   "outputs": [],
   "source": [
    "integration_points = pyDOE.lhs(2, 50, criterion=\"maximin\", iterations=50)\n",
    "imse = branin.gp.predict(integration_points, return_std=True)[1]**2\n",
    "\n",
    "@save_at_each_iteration(\"tmp/aIMSE.txt\", header=\"aimse\")\n",
    "def function_aIMSE(XY):\n",
    "    return augmented_IMSE(\n",
    "        branin, XY, scenarios=None, integration_points=integration_points\n",
    "    )\n"
   ]
  },
  {
   "cell_type": "code",
   "execution_count": null,
   "metadata": {},
   "outputs": [],
   "source": [
    "function_aIMSE(XY)"
   ]
  },
  {
   "cell_type": "code",
   "execution_count": 4,
   "metadata": {},
   "outputs": [
    {
     "data": {
      "text/plain": [
       "array([nan, nan, nan, ..., nan, nan, nan])"
      ]
     },
     "execution_count": 4,
     "metadata": {},
     "output_type": "execute_result"
    }
   ],
   "source": [
    "# function_aIMSE(XY)\n",
    "np.genfromtxt(\"tmp/aIMSE.txt\", skip_header=True)"
   ]
  },
  {
   "cell_type": "code",
   "execution_count": null,
   "metadata": {},
   "outputs": [],
   "source": [
    "\n"
   ]
  },
  {
   "cell_type": "code",
   "execution_count": 5,
   "metadata": {},
   "outputs": [],
   "source": [
    "@save_at_each_iteration(\"tmp/aIMSE_Delta_1.txt\", header=\"XYs, alpha=1.0\")\n",
    "def function_aIMSE_Delta_1(XY):\n",
    "    return augmented_IMSE_Delta(\n",
    "        branin,\n",
    "        XY,\n",
    "        scenarios=None,\n",
    "        integration_points=integration_points,\n",
    "        alpha=1.0,\n",
    "    )\n",
    "function_aIMSE_Delta_1(XYs)"
   ]
  },
  {
   "cell_type": "code",
   "execution_count": 6,
   "metadata": {},
   "outputs": [],
   "source": [
    "@save_at_each_iteration_parallel(\"None\", \"None\", 4)\n",
    "def function_aIMSE_Delta_pool(XY):\n",
    "    return augmented_IMSE_Delta(\n",
    "        branin,\n",
    "        XY,\n",
    "        scenarios=None,\n",
    "        integration_points=integration_points,\n",
    "        alpha=1.0,\n",
    "    )\n",
    "# function_aIMSE_Delta_pool(XYs)"
   ]
  },
  {
   "cell_type": "code",
   "execution_count": 7,
   "metadata": {},
   "outputs": [
    {
     "data": {
      "text/plain": [
       "<matplotlib.collections.PathCollection at 0x7f5241883220>"
      ]
     },
     "execution_count": 7,
     "metadata": {},
     "output_type": "execute_result"
    },
    {
     "data": {
      "image/png": "[encoded data removed]",
      "text/plain": [
       "<Figure size 1000x600 with 4 Axes>"
      ]
     },
     "metadata": {},
     "output_type": "display_data"
    }
   ],
   "source": [
    "import matplotlib.pyplot as plt\n",
    "\n",
    "plt.style.use('seaborn-v0_8')\n",
    "# plt.rc(\"text.latex\", preamble=r\"\\usepackage{amsmath} \\usepackage{amssymb}\")\n",
    "plt.rcParams.update({\n",
    "    # \"text.usetex\": True,\n",
    "    # \"font.family\": \"serif\",\n",
    "    # \"font.serif\": [\"DejaVu\", \"Verdana\", \"Computer Modern Roman\"],\n",
    "    # 'font.sans-serif' : ['Tahoma', 'DejaVu Sans','Lucida Grande', 'Verdana'],\n",
    "    'image.cmap': u'viridis',\n",
    "    'figure.figsize': [8, 8],\n",
    "    'savefig.dpi': 200\n",
    "})\n",
    "\n",
    "data = np.genfromtxt(\"tmp/aIMSE.txt\", skip_header=True, delimiter=',')\n",
    "# plt.plot(data[:, -1])\n",
    "plt.figure(figsize=(10, 6))\n",
    "plt.subplot(2, 2, 1)\n",
    "plt.tricontourf(data[:, 0], data[:, 1], np.log(data[:, 2]))\n",
    "plt.colorbar()\n",
    "plt.scatter(branin.gp.X_train_[:, 0], branin.gp.X_train_[:, 1])\n",
    "plt.title(r'aIMSEZ')\n",
    "\n",
    "plt.subplot(2, 2, 2)\n",
    "plt.contourf(xmg, ymg, branin.gp.predict(XY, return_std=True)[1].reshape(50, 50))\n",
    "plt.scatter(branin.gp.X_train_[:, 0], branin.gp.X_train_[:, 1])\n",
    "plt.title(r'sigma_Z')\n",
    "\n",
    "data_aIMSE = np.genfromtxt(\"tmp/aIMSE_Delta_1.txt\", skip_header=True, delimiter=',')\n",
    "plt.tricontourf(data_aIMSE[:, 0], data_aIMSE[:, 1], np.log(data_aIMSE[:, 2]))\n",
    "plt.colorbar()\n",
    "plt.scatter(branin.gp.X_train_[:, 0], branin.gp.X_train_[:, 1])\n",
    "# plt.scatter(data[:, 0], data[:, 1])"
   ]
  },
  {
   "cell_type": "code",
   "execution_count": 11,
   "metadata": {},
   "outputs": [],
   "source": [
    "plt.close()"
   ]
  },
  {
   "cell_type": "code",
   "execution_count": 7,
   "metadata": {},
   "outputs": [],
   "source": [
    "import scipy\n",
    "\n",
    "def augmented_design(arg, X, scenarios, function_, args, verbose=False):\n",
    "    if isinstance(arg, tuple):\n",
    "        m, s = arg\n",
    "    else:\n",
    "        m, s = arg.predict(X, return_std=True)\n",
    "    if scenarios is None:\n",
    "        scenarios = lambda mp, sp: scipy.stats.norm.ppf(\n",
    "            np.linspace(0.05, 0.95, 5, endpoint=True), loc=mp, scale=sp\n",
    "        )\n",
    "    augmented_meas = np.empty(len(m))\n",
    "    for j, (m_, s_) in enumerate(zip(m, s)):\n",
    "        augmented_sc = np.empty(5)\n",
    "        for i, zi in enumerate(scenarios(m_, s_)):\n",
    "            aug_gp = arg.augmented_GP(X[j], zi)\n",
    "            augmented_sc[i] = function_(aug_gp, **args).mean()\n",
    "        augmented_meas[j] = augmented_sc.mean()\n",
    "    return augmented_meas\n"
   ]
  },
  {
   "cell_type": "code",
   "execution_count": 8,
   "metadata": {},
   "outputs": [
    {
     "data": {
      "text/plain": [
       "<robustGP.SURmodel.AdaptiveStrategy at 0x7f8f7c29a620>"
      ]
     },
     "execution_count": 8,
     "metadata": {},
     "output_type": "execute_result"
    }
   ],
   "source": [
    "\n",
    "import multiprocessing\n",
    "def save_at_each_iteration_parallel(filename, header=None, nworkers=4):\n",
    "    def decorator(function):\n",
    "        pool = multiprocessing.Pool(processes=nworkers)\n",
    "        def pooled_func(XY, *args, **kwargs):\n",
    "            elt_func = lambda xy: function(xy.reshape(-1, 2), *args, **kwargs)\n",
    "            result = pool.map(elt_func, XY)\n",
    "            return result\n",
    "        return pooled_func\n",
    "\n",
    "    return decorator"
   ]
  },
  {
   "cell_type": "code",
   "execution_count": 74,
   "metadata": {},
   "outputs": [],
   "source": [
    "import functools, time\n",
    "\n",
    "def pooled_func(XY, *args, **kwargs):\n",
    "    elt_func = lambda xy: function(xy.reshape(-1, 2), *args, **kwargs)\n",
    "    result = multiprocessing.pool.map(elt_func, XY)\n",
    "    return result\n",
    "\n",
    "\n",
    "def parallel(func=None, **options):\n",
    "    if func is None:\n",
    "        return functools.partial(parallel, **options)\n",
    "\n",
    "    def wrapper(iterable, **kwargs):\n",
    "        processes = options[\"processes\"]\n",
    "\n",
    "        with multiprocessing.Pool(processes) as pool:\n",
    "            result = pool.map(func, iterable)\n",
    "\n",
    "        return result\n",
    "\n",
    "    return wrapper\n",
    "\n",
    "\n",
    "def test(i):\n",
    "    time.sleep(1)\n",
    "    print(f\"{i}: {i * i}\")\n",
    "\n",
    "test_parallel = parallel(test, processes=6)\n",
    "\n"
   ]
  },
  {
   "cell_type": "code",
   "execution_count": 68,
   "metadata": {},
   "outputs": [],
   "source": [
    "def function_pool(XY):\n",
    "    return augmented_IMSE_Delta(\n",
    "        branin,\n",
    "        XY,\n",
    "        scenarios=None,\n",
    "        integration_points=integration_points,\n",
    "        alpha=1.0,\n",
    "    )"
   ]
  },
  {
   "cell_type": "code",
   "execution_count": 75,
   "metadata": {},
   "outputs": [],
   "source": [
    "func_par = parallel(pooled_func, processes=4)"
   ]
  },
  {
   "cell_type": "code",
   "execution_count": 76,
   "metadata": {},
   "outputs": [
    {
     "ename": "AttributeError",
     "evalue": "module 'multiprocessing.pool' has no attribute 'map'",
     "output_type": "error",
     "traceback": [
      "\u001b[0;31m---------------------------------------------------------------------------\u001b[0m",
      "\u001b[0;31mRemoteTraceback\u001b[0m                           Traceback (most recent call last)",
      "\u001b[0;31mRemoteTraceback\u001b[0m: \n\"\"\"\nTraceback (most recent call last):\n  File \"/usr/lib/python3.10/multiprocessing/pool.py\", line 125, in worker\n    result = (True, func(*args, **kwds))\n  File \"/usr/lib/python3.10/multiprocessing/pool.py\", line 48, in mapstar\n    return list(map(*args))\n  File \"/tmp/ipykernel_8555/3193711611.py\", line 5, in pooled_func\n    result = multiprocessing.pool.map(elt_func, XY)\nAttributeError: module 'multiprocessing.pool' has no attribute 'map'\n\"\"\"",
      "\nThe above exception was the direct cause of the following exception:\n",
      "\u001b[0;31mAttributeError\u001b[0m                            Traceback (most recent call last)",
      "Cell \u001b[0;32mIn[76], line 1\u001b[0m\n\u001b[0;32m----> 1\u001b[0m func_par(XYs)\n",
      "Cell \u001b[0;32mIn[74], line 17\u001b[0m, in \u001b[0;36mparallel.<locals>.wrapper\u001b[0;34m(iterable, **kwargs)\u001b[0m\n\u001b[1;32m     14\u001b[0m processes \u001b[39m=\u001b[39m options[\u001b[39m\"\u001b[39m\u001b[39mprocesses\u001b[39m\u001b[39m\"\u001b[39m]\n\u001b[1;32m     16\u001b[0m \u001b[39mwith\u001b[39;00m multiprocessing\u001b[39m.\u001b[39mPool(processes) \u001b[39mas\u001b[39;00m pool:\n\u001b[0;32m---> 17\u001b[0m     result \u001b[39m=\u001b[39m pool\u001b[39m.\u001b[39;49mmap(func, iterable)\n\u001b[1;32m     19\u001b[0m \u001b[39mreturn\u001b[39;00m result\n",
      "File \u001b[0;32m/usr/lib/python3.10/multiprocessing/pool.py:367\u001b[0m, in \u001b[0;36mPool.map\u001b[0;34m(self, func, iterable, chunksize)\u001b[0m\n\u001b[1;32m    362\u001b[0m \u001b[39mdef\u001b[39;00m \u001b[39mmap\u001b[39m(\u001b[39mself\u001b[39m, func, iterable, chunksize\u001b[39m=\u001b[39m\u001b[39mNone\u001b[39;00m):\n\u001b[1;32m    363\u001b[0m \u001b[39m    \u001b[39m\u001b[39m'''\u001b[39;00m\n\u001b[1;32m    364\u001b[0m \u001b[39m    Apply `func` to each element in `iterable`, collecting the results\u001b[39;00m\n\u001b[1;32m    365\u001b[0m \u001b[39m    in a list that is returned.\u001b[39;00m\n\u001b[1;32m    366\u001b[0m \u001b[39m    '''\u001b[39;00m\n\u001b[0;32m--> 367\u001b[0m     \u001b[39mreturn\u001b[39;00m \u001b[39mself\u001b[39;49m\u001b[39m.\u001b[39;49m_map_async(func, iterable, mapstar, chunksize)\u001b[39m.\u001b[39;49mget()\n",
      "File \u001b[0;32m/usr/lib/python3.10/multiprocessing/pool.py:774\u001b[0m, in \u001b[0;36mApplyResult.get\u001b[0;34m(self, timeout)\u001b[0m\n\u001b[1;32m    772\u001b[0m     \u001b[39mreturn\u001b[39;00m \u001b[39mself\u001b[39m\u001b[39m.\u001b[39m_value\n\u001b[1;32m    773\u001b[0m \u001b[39melse\u001b[39;00m:\n\u001b[0;32m--> 774\u001b[0m     \u001b[39mraise\u001b[39;00m \u001b[39mself\u001b[39m\u001b[39m.\u001b[39m_value\n",
      "\u001b[0;31mAttributeError\u001b[0m: module 'multiprocessing.pool' has no attribute 'map'"
     ]
    }
   ],
   "source": [
    "func_par(XYs)"
   ]
  },
  {
   "cell_type": "code",
   "execution_count": null,
   "metadata": {},
   "outputs": [],
   "source": []
  }
 ],
 "metadata": {
  "kernelspec": {
   "display_name": "Python 3",
   "language": "python",
   "name": "python3"
  },
  "language_info": {
   "codemirror_mode": {
    "name": "ipython",
    "version": 3
   },
   "file_extension": ".py",
   "mimetype": "text/x-python",
   "name": "python",
   "nbconvert_exporter": "python",
   "pygments_lexer": "ipython3",
   "version": "3.10.6"
  },
  "orig_nbformat": 4
 },
 "nbformat": 4,
 "nbformat_minor": 2
}
